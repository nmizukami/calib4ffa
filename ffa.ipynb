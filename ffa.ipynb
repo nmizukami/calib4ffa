{
 "cells": [
  {
   "cell_type": "code",
   "execution_count": 5,
   "metadata": {
    "slideshow": {
     "slide_type": "-"
    }
   },
   "outputs": [
    {
     "name": "stdout",
     "output_type": "stream",
     "text": [
      "('pandas version : ', u'0.20.1')\n",
      "('xarray version : ', '0.9.6')\n"
     ]
    }
   ],
   "source": [
    "%matplotlib inline\n",
    "\n",
    "import matplotlib.pyplot as plt\n",
    "from matplotlib.colors import LinearSegmentedColormap\n",
    "from mpl_toolkits.axes_grid1 import make_axes_locatable\n",
    "import math\n",
    "import numpy as np\n",
    "import pandas as pd\n",
    "import xarray as xr\n",
    "import seaborn as sns\n",
    "\n",
    "print(\"pandas version : \", pd.__version__)\n",
    "print(\"xarray version : \", xr.__version__)\n",
    "\n",
    "sns.set_style(\"whitegrid\")\n",
    "plt.rcParams[\"font.family\"] = 'sans-serif'"
   ]
  },
  {
   "cell_type": "markdown",
   "metadata": {},
   "source": [
    "### Objective function analysis\n",
    "VIC parameters were calibrated with NSE, scaled KGEs and annual peak Q error, at each of 490 HCDN basins independently. SCE was used with 20,000 maximum trials.\n",
    "\n",
    "note:\n",
    "vic streamflow is mm/day\n",
    "mhm streamflow is m3/sec"
   ]
  },
  {
   "cell_type": "code",
   "execution_count": 61,
   "metadata": {},
   "outputs": [
    {
     "name": "stdout",
     "output_type": "stream",
     "text": [
      "VIC flow data\n",
      "-------------\n",
      "<xarray.Dataset>\n",
      "Dimensions:      (hcdn: 491, time: 6940)\n",
      "Coordinates:\n",
      "  * hcdn         (hcdn) int64 1022500 1031500 1047000 1052500 1055000 ...\n",
      "  * time         (time) datetime64[ns] 1989-10-01 1989-10-02 1989-10-03 ...\n",
      "Data variables:\n",
      "    nse          (hcdn, time) float32 0.532613 1.11103 1.35535 1.28482 ...\n",
      "    kge          (hcdn, time) float32 0.923137 1.49746 1.74754 1.68964 ...\n",
      "    kge_alpha    (hcdn, time) float32 0.994104 1.35776 1.50395 1.45667 ...\n",
      "    kge_2alpha   (hcdn, time) float32 0.861706 1.42786 1.67888 1.62626 ...\n",
      "    kge_5alpha   (hcdn, time) float32 0.948378 1.52275 1.77234 1.71452 ...\n",
      "    kge_10alpha  (hcdn, time) float32 0.942386 1.5129 1.76088 1.70395 ...\n",
      "    sig1         (hcdn, time) float32 1.48747 1.70963 1.76399 1.69169 ...\n",
      "    obs          (hcdn, time) float32 0.620306 0.553696 0.711895 0.807647 ...\n",
      "\n",
      "mHM flow data\n",
      "-------------\n",
      "<xarray.Dataset>\n",
      "Dimensions:     (hcdn: 491, time: 6940)\n",
      "Coordinates:\n",
      "  * hcdn        (hcdn) int64 1022500 1031500 1047000 1052500 1055000 1057000 ...\n",
      "  * time        (time) datetime64[ns] 1989-10-01 1989-10-02 1989-10-03 ...\n",
      "Data variables:\n",
      "    nse         (hcdn, time) float32 5.87352 7.34512 9.51631 8.70196 7.76989 ...\n",
      "    kge_2alpha  (hcdn, time) float32 6.48915 8.53673 11.692 10.4205 9.03782 ...\n",
      "    kge         (hcdn, time) float32 6.82398 8.66997 12.0485 10.7206 9.27146 ...\n",
      "    sig1        (hcdn, time) float32 5.04871 5.95959 7.23878 6.731 6.19706 ...\n",
      "    kge_5alpha  (hcdn, time) float32 7.30043 8.81332 11.4428 10.4816 9.38536 ...\n",
      "    obs         (hcdn, time) float32 4.2192 3.7661 4.8422 5.4935 5.0121 ...\n",
      "\n",
      "vic runoff data\n",
      "-------------\n",
      "<xarray.Dataset>\n",
      "Dimensions:               (hcdn: 491, time: 6940)\n",
      "Coordinates:\n",
      "  * hcdn                  (hcdn) int64 1022500 1031500 1047000 1052500 ...\n",
      "  * time                  (time) datetime64[ns] 1989-10-01 1989-10-02 ...\n",
      "Data variables:\n",
      "    nse_dir_flow          (hcdn, time) float32 0.0 3.774 0.37 0.236 0.0 ...\n",
      "    nse_baseflow          (hcdn, time) float32 0.343 0.349 0.365 0.383 0.398 ...\n",
      "    kge_dir_flow          (hcdn, time) float32 0.0 3.935 0.379 0.231 0.0 ...\n",
      "    kge_baseflow          (hcdn, time) float32 0.64 0.634 0.769 0.836 0.828 ...\n",
      "    kge_alpha_dir_flow    (hcdn, time) float32 0.0 2.386 0.241 0.12 0.0 ...\n",
      "    kge_alpha_baseflow    (hcdn, time) float32 0.879 0.838 0.845 0.925 0.995 ...\n",
      "    kge_2alpha_dir_flow   (hcdn, time) float32 0.0 3.85 0.369 0.223 0.0 ...\n",
      "    kge_2alpha_baseflow   (hcdn, time) float32 0.594 0.595 0.743 0.797 0.775 ...\n",
      "    kge_5alpha_dir_flow   (hcdn, time) float32 0.0 3.949 0.38 0.235 0.0 ...\n",
      "    kge_5alpha_baseflow   (hcdn, time) float32 0.659 0.651 0.789 0.859 0.853 ...\n",
      "    kge_10alpha_dir_flow  (hcdn, time) float32 0.0 3.93 0.379 0.237 0.0 ...\n",
      "    kge_10alpha_baseflow  (hcdn, time) float32 0.651 0.643 0.782 0.853 0.846 ...\n",
      "    sig1_dir_flow         (hcdn, time) float32 0.0 1.964 0.198 0.101 0.0 ...\n",
      "    sig1_baseflow         (hcdn, time) float32 1.205 1.087 1.094 1.243 1.342 ...\n",
      "\n",
      "mHM runoff data\n",
      "-------------\n",
      "<xarray.Dataset>\n",
      "Dimensions:              (hcdn: 491, time: 6940)\n",
      "Coordinates:\n",
      "  * hcdn                 (hcdn) int64 1022500 1031500 1047000 1052500 ...\n",
      "  * time                 (time) datetime64[ns] 1989-10-01 1989-10-02 ...\n",
      "Data variables:\n",
      "    nse_dir_flow         (hcdn, time) float32 0.876 1.175 1.433 1.297 1.158 ...\n",
      "    nse_baseflow         (hcdn, time) float32 0.192 0.193 0.195 0.198 0.2 ...\n",
      "    kge_2alpha_dir_flow  (hcdn, time) float32 0.966 1.381 1.759 1.549 1.343 ...\n",
      "    kge_2alpha_baseflow  (hcdn, time) float32 0.154 0.155 0.158 0.161 0.163 ...\n",
      "    kge_dir_flow         (hcdn, time) float32 1.016 1.398 1.813 1.595 1.379 ...\n",
      "    kge_baseflow         (hcdn, time) float32 0.186 0.186 0.19 0.195 0.197 ...\n",
      "    sig1_dir_flow        (hcdn, time) float32 0.758 0.934 1.091 1.008 0.928 ...\n",
      "    sig1_baseflow        (hcdn, time) float32 0.426 0.426 0.426 0.426 0.426 ...\n",
      "    kge_5alpha_dir_flow  (hcdn, time) float32 1.091 1.4 1.724 1.565 1.401 ...\n",
      "    kge_5alpha_baseflow  (hcdn, time) float32 0.325 0.327 0.337 0.346 0.352 ...\n"
     ]
    }
   ],
   "source": [
    "# Getting Data: \n",
    "# 1. simulated streamflow from vic and mhm\n",
    "# 2. runoff output from vic and mhm\n",
    "# 3. Basin list file\n",
    "\n",
    "data_path = './data'\n",
    "\n",
    "# List of objective functions used\n",
    "obj_fun_list = ['nse','kge','kge_2alpha','kge_5alpha','sig1']\n",
    "# List of models used\n",
    "model_list = ['vic', 'mhm']\n",
    "\n",
    "# Read model simulated streamflow at daily steps\n",
    "ds_vic_flow_all = xr.open_dataset('%s/results_hcdn_flow_vic_491.nc'%data_path)\n",
    "ds_mhm_flow_all = xr.open_dataset('%s/results_hcdn_flow_mhm_491.nc'%data_path)\n",
    "\n",
    "# Read model runoff output i.e., baseflow and surface flow at daily steps\n",
    "ds_vic_ro_all = xr.open_dataset('%s/results_hcdn_vic_output_491.nc'%data_path)\n",
    "ds_mhm_ro_all = xr.open_dataset('%s/results_hcdn_mhm_output_491.nc'%data_path)\n",
    "\n",
    "# Read basin attributes \n",
    "df_hcdn = pd.read_csv('%s/hcdn.calib.conus.491.list'%data_path, delim_whitespace=True,\n",
    "                   header=None, names=['id', 'lat', 'lon', 'area'])    #area is sq-meters\n",
    "\n",
    "nbasin = len(df_hcdn['id'])\n",
    "ndata = len(obj_fun_list)\n",
    "\n",
    "# Print data variables\n",
    "print('VIC flow data')\n",
    "print('-------------')\n",
    "print(ds_vic_flow_all)\n",
    "print('\\nmHM flow data')\n",
    "print('-------------')\n",
    "print(ds_mhm_flow_all)\n",
    "print('\\nvic runoff data')\n",
    "print('-------------')\n",
    "print(ds_vic_ro_all)\n",
    "print('\\nmHM runoff data')\n",
    "print('-------------')\n",
    "print(ds_mhm_ro_all)"
   ]
  },
  {
   "cell_type": "code",
   "execution_count": 7,
   "metadata": {
    "collapsed": true
   },
   "outputs": [],
   "source": [
    "# Personal functions used here.\n",
    "\n",
    "def nse(qsim, qobs):\n",
    "    return 1-np.sum((qsim-qobs)**2)/np.sum((qobs-np.mean(qobs))**2)\n",
    "\n",
    "    \n",
    "def corr(qsim, qobs):\n",
    "    return np.corrcoef(qsim, qobs)[0, 1]\n",
    "    \n",
    "    \n",
    "def alpha(qsim, qobs):\n",
    "    return math.sqrt(np.sum((qsim-np.mean(qsim))**2)/len(qsim))/math.sqrt(np.sum((qobs-np.mean(qobs))**2)/len(qobs))\n",
    "    \n",
    "\n",
    "def beta(qsim, qobs):\n",
    "    return np.mean(qsim)/np.mean(qobs)\n",
    "\n",
    "\n",
    "def kge(qsim, qobs):\n",
    "    return 1-math.sqrt((1-corr(qsim, qobs))**2 + (alpha(qsim, qobs)-1)**2 + (beta(qsim, qobs)-1)**2)\n",
    "\n",
    "\n",
    "def pbias(qsim, qobs):\n",
    "    return np.sum((qsim-qobs))/np.sum(qobs)\n",
    "\n",
    "\n",
    "def bfi(qin, a=0.95):   #baseflow index\n",
    "    qbs = np.zeros(len(qin))\n",
    "    for t in np.arange(1,len(qin)):\n",
    "        qbs[t] = a*qbs[t-1] + (1-a)*(qin[t] + qin[t-1])/2\n",
    "        if qbs[t] >= qin[t]:\n",
    "            qbs[t] = qin[t]\n",
    "    return np.sum(qbs)/np.sum(qin)"
   ]
  },
  {
   "cell_type": "code",
   "execution_count": 8,
   "metadata": {},
   "outputs": [],
   "source": [
    "# Calibration period\n",
    "ds_vic_flow_cal = ds_vic_flow_all.sel(time=slice('1999-10-01', '2008-09-30'))\n",
    "ds_mhm_flow_cal = ds_mhm_flow_all.sel(time=slice('1999-10-01', '2008-09-30'))\n",
    "\n",
    "#Initialize dictionary\n",
    "nse_cal = {}\n",
    "alpha_cal = {}\n",
    "beta_cal = {} \n",
    "corr_cal = {} \n",
    "kge_cal = {} \n",
    "pbiasFHV_cal = {}\n",
    "pbiasQpeak_cal = {} \n",
    "\n",
    "prob_cal=np.arange(1,float(len(ds_vic_flow_cal['time'])+1))/(1+len(ds_vic_flow_cal['time'])) #probability\n",
    "for d in range(len(prob_cal)):\n",
    "    idx50=d\n",
    "    if prob_cal[d] > 0.5: break\n",
    "for d in range(len(prob_cal)):\n",
    "    idx30=d\n",
    "    if prob_cal[d] > 0.3: break\n",
    "for d in range(len(prob_cal)):\n",
    "    idx80=d\n",
    "    if prob_cal[d] > 0.8: break\n",
    "\n",
    "for model in ['vic','mhm']:\n",
    "    nse_array = np.zeros((nbasin, ndata))\n",
    "    alpha_array = np.zeros((nbasin, ndata))\n",
    "    beta_array = np.zeros((nbasin, ndata))\n",
    "    corr_array = np.zeros((nbasin, ndata))\n",
    "    kge_array = np.zeros((nbasin, ndata))\n",
    "    pbiasFHV_array = np.zeros((nbasin, ndata))\n",
    "    pbiasQpeak_array = np.zeros((nbasin, ndata))     \n",
    "    r=0\n",
    "    for hid in df_hcdn['id']:\n",
    "        for c, obj in enumerate(obj_fun_list): \n",
    "            if model == 'vic':\n",
    "                sr_sim = ds_vic_flow_cal[obj].sel(hcdn=hid).to_pandas() \n",
    "            elif model =='mhm':\n",
    "                sr_sim = ds_mhm_flow_cal[obj].sel(hcdn=hid).to_pandas()\n",
    "                \n",
    "            sr_sim.where(sr_sim>0.0, 1.0e-7, inplace=True)\n",
    "            sr_sim_sort = sr_sim.sort_values()\n",
    "            sr_sim_ann=sr_sim.resample('A-SEP').max()\n",
    "            if c == 0:\n",
    "                if model == 'vic':\n",
    "                    sr_obs = ds_vic_flow_cal['obs'].sel(hcdn=hid).to_pandas()\n",
    "                elif model =='mhm':\n",
    "                    sr_obs = ds_mhm_flow_cal['obs'].sel(hcdn=hid).to_pandas()\n",
    "                sr_obs.where(sr_obs>0.0, 1.0e-7, inplace=True)\n",
    "                sr_obs_sort = sr_obs.sort_values()\n",
    "                sr_obs_ann=sr_obs.resample('A-SEP').max()\n",
    "            \n",
    "            nse_array[r,c] = nse(sr_sim, sr_obs)\n",
    "            alpha_array[r,c] = alpha(sr_sim, sr_obs)\n",
    "            beta_array[r,c] = beta(sr_sim, sr_obs)\n",
    "            corr_array[r,c] = corr(sr_sim, sr_obs)\n",
    "            kge_array[r,c] = kge(sr_sim, sr_obs)\n",
    "            pbiasQpeak_array[r,c] = pbias(sr_sim_ann, sr_obs_ann)\n",
    "            pbiasFHV_array[r,c] = pbias(sr_sim_sort[idx80:], sr_obs_sort[idx80:])\n",
    "               \n",
    "        r += 1\n",
    "        \n",
    "    nse_cal[model] = nse_array\n",
    "    alpha_cal[model] = alpha_array\n",
    "    beta_cal[model] = beta_array\n",
    "    corr_cal[model] = corr_array\n",
    "    kge_cal[model] = kge_array\n",
    "    pbiasQpeak_cal[model] = pbiasQpeak_array\n",
    "    pbiasFHV_cal[model] = pbiasFHV_array"
   ]
  },
  {
   "cell_type": "code",
   "execution_count": 9,
   "metadata": {
    "collapsed": true
   },
   "outputs": [],
   "source": [
    "# Validation period\n",
    "ds_vic_flow_val = ds_vic_flow_all.sel(time=slice('1989-10-01', '1999-09-30'))\n",
    "ds_mhm_flow_val = ds_mhm_flow_all.sel(time=slice('1989-10-01', '1999-09-30'))\n",
    "\n",
    "#Initialize dictionary\n",
    "nse_val = {}\n",
    "alpha_val = {}\n",
    "beta_val = {} \n",
    "corr_val = {} \n",
    "kge_val = {} \n",
    "pbiasFHV_val = {}\n",
    "pbiasQpeak_val = {} \n",
    "\n",
    "prob_val=np.arange(1,float(len(ds_vic_flow_val['time'])+1))/(1+len(ds_vic_flow_val['time'])) #probability\n",
    "for d in range(len(prob_val)):\n",
    "    idx50=d\n",
    "    if prob_val[d] > 0.5: break\n",
    "for d in range(len(prob_val)):\n",
    "    idx30=d\n",
    "    if prob_val[d] > 0.3: break\n",
    "for d in range(len(prob_val)):\n",
    "    idx80=d\n",
    "    if prob_val[d] > 0.8: break\n",
    "\n",
    "for model in ['vic','mhm']:\n",
    "    nse_array = np.zeros((nbasin, ndata))\n",
    "    alpha_array = np.zeros((nbasin, ndata))\n",
    "    beta_array = np.zeros((nbasin, ndata))\n",
    "    corr_array = np.zeros((nbasin, ndata))\n",
    "    kge_array = np.zeros((nbasin, ndata))\n",
    "    pbiasFHV_array = np.zeros((nbasin, ndata))\n",
    "    pbiasQpeak_array = np.zeros((nbasin, ndata))     \n",
    "    r=0\n",
    "    for hid in df_hcdn['id']:\n",
    "        for c, obj in enumerate(obj_fun_list): \n",
    "            if model == 'vic':\n",
    "                sr_sim = ds_vic_flow_val[obj].sel(hcdn=hid).to_pandas() \n",
    "            elif model =='mhm':\n",
    "                sr_sim = ds_mhm_flow_val[obj].sel(hcdn=hid).to_pandas()\n",
    "                \n",
    "            sr_sim.where(sr_sim>0.0, 1.0e-7, inplace=True)\n",
    "            sr_sim_sort = sr_sim.sort_values()\n",
    "            sr_sim_ann=sr_sim.resample('A-SEP').max()\n",
    "            if c == 0:\n",
    "                if model == 'vic':\n",
    "                    sr_obs = ds_vic_flow_val['obs'].sel(hcdn=hid).to_pandas()\n",
    "                elif model =='mhm':\n",
    "                    sr_obs = ds_mhm_flow_val['obs'].sel(hcdn=hid).to_pandas()\n",
    "                sr_obs.where(sr_obs>0.0, 1.0e-7, inplace=True)\n",
    "                sr_obs_sort = sr_obs.sort_values()\n",
    "                sr_obs_ann=sr_obs.resample('A-SEP').max()\n",
    "            \n",
    "            nse_array[r,c] = nse(sr_sim, sr_obs)\n",
    "            alpha_array[r,c] = alpha(sr_sim, sr_obs)\n",
    "            beta_array[r,c] = beta(sr_sim, sr_obs)\n",
    "            corr_array[r,c] = corr(sr_sim, sr_obs)\n",
    "            kge_array[r,c] = kge(sr_sim, sr_obs)\n",
    "            pbiasQpeak_array[r,c] = pbias(sr_sim_ann, sr_obs_ann)\n",
    "            pbiasFHV_array[r,c] = pbias(sr_sim_sort[idx80:], sr_obs_sort[idx80:])\n",
    "               \n",
    "        r += 1\n",
    "        \n",
    "    nse_val[model] = nse_array\n",
    "    alpha_val[model] = alpha_array\n",
    "    beta_val[model] = beta_array\n",
    "    corr_val[model] = corr_array\n",
    "    kge_val[model] = kge_array\n",
    "    pbiasQpeak_val[model] = pbiasQpeak_array\n",
    "    pbiasFHV_val[model] = pbiasFHV_array"
   ]
  },
  {
   "cell_type": "code",
   "execution_count": 10,
   "metadata": {
    "collapsed": true
   },
   "outputs": [],
   "source": [
    "# Annual flood Frequency analysis based on the entire time serise\n",
    "\n",
    "yrs = pd.date_range('1989-10-01', '2008-09-30', freq='A-SEP')\n",
    "prob_ann = np.arange(1,float(len(yrs)+1))/(1+float(len(yrs))) #probability\n",
    "for d in range(len(prob_ann)):\n",
    "    idx20=d\n",
    "    if prob_ann[d] >= 0.95: break\n",
    "for d in range(len(prob_ann)):\n",
    "    idx10=d\n",
    "    if prob_ann[d] >= 0.90: break\n",
    "for d in range(len(prob_ann)):\n",
    "    idx5=d\n",
    "    if prob_ann[d] >= 0.80: break\n",
    "\n",
    "pbiasQ20 = {}\n",
    "pbiasQ10 = {}\n",
    "pbiasQ5 = {}\n",
    "for model in model_list:        \n",
    "    pbiasQ20_array = np.zeros((nbasin,ndata))\n",
    "    pbiasQ10_array = np.zeros((nbasin,ndata))\n",
    "    pbiasQ5_array = np.zeros((nbasin,ndata))\n",
    "    r=0\n",
    "    for hid in df_hcdn['id']:\n",
    "        for c, obj in enumerate(obj_fun_list):\n",
    "            if model == 'vic':\n",
    "                sr_sim = ds_vic_flow_all[obj].sel(hcdn=hid).to_pandas()\n",
    "            elif model == 'mhm':    \n",
    "                sr_sim = ds_mhm_flow_all[obj].sel(hcdn=hid).to_pandas()\n",
    "            sr_sim.where(sr_sim>0.0, 1.0e-7, inplace=True)\n",
    "            sr_sim_ann = sr_sim.resample('A-SEP').max()\n",
    "            sr_sim_ann_sort = sr_sim_ann.sort_values()\n",
    "            if c == 0:\n",
    "                if model == 'vic':\n",
    "                    sr_obs = ds_vic_flow_all['obs'].sel(hcdn=hid).to_pandas()\n",
    "                elif model == 'mhm':\n",
    "                    sr_obs = ds_mhm_flow_all['obs'].sel(hcdn=hid).to_pandas()\n",
    "                sr_obs.where(sr_obs>0.0, 1.0e-7, inplace=True)\n",
    "                sr_obs_ann=sr_obs.resample('A-SEP').max()\n",
    "                sr_obs_ann_sort = sr_obs_ann.sort_values()\n",
    "            \n",
    "            pbiasQ20_array[r,c] = pbias(sr_sim_ann_sort[idx20], sr_obs_ann_sort[idx20])\n",
    "            pbiasQ10_array[r,c] = pbias(sr_sim_ann_sort[idx10], sr_obs_ann_sort[idx10])\n",
    "            pbiasQ5_array[r,c] = pbias(sr_sim_ann_sort[idx5], sr_obs_ann_sort[idx5])\n",
    "        r += 1\n",
    "\n",
    "    pbiasQ20[model] = pbiasQ20_array\n",
    "    pbiasQ10[model] = pbiasQ10_array\n",
    "    pbiasQ5[model] = pbiasQ5_array"
   ]
  },
  {
   "cell_type": "code",
   "execution_count": 11,
   "metadata": {
    "collapsed": true
   },
   "outputs": [],
   "source": [
    "# Annual maximum peak flow stats\n",
    "yrs = pd.date_range('1989-10-01', '2008-09-30', freq='A-SEP')\n",
    "\n",
    "qpeak_alpha = {}\n",
    "qpeak_beta = {}\n",
    "qpeak_corr = {}\n",
    "for model in model_list:        \n",
    "    qpeak_alpha_array = np.zeros((nbasin,ndata))\n",
    "    qpeak_beta_array = np.zeros((nbasin,ndata))\n",
    "    qpeak_corr_array = np.zeros((nbasin,ndata))\n",
    "    r=0\n",
    "    for hid in df_hcdn['id']:\n",
    "        for c, obj in enumerate(obj_fun_list):\n",
    "            if model == 'vic':\n",
    "                sr_sim = ds_vic_flow_all[obj].sel(hcdn=hid).to_pandas()\n",
    "            elif model == 'mhm':    \n",
    "                sr_sim = ds_mhm_flow_all[obj].sel(hcdn=hid).to_pandas()\n",
    "            sr_sim.where(sr_sim>0.0, 1.0e-7, inplace=True)\n",
    "            sr_sim_ann = sr_sim.resample('A-SEP').max()\n",
    "            if c == 0:\n",
    "                if model == 'vic':\n",
    "                    sr_obs = ds_vic_flow_all['obs'].sel(hcdn=hid).to_pandas()\n",
    "                elif model == 'mhm':\n",
    "                    sr_obs = ds_mhm_flow_all['obs'].sel(hcdn=hid).to_pandas()\n",
    "                sr_obs.where(sr_obs>0.0, 1.0e-7, inplace=True)\n",
    "                sr_obs_ann=sr_obs.resample('A-SEP').max()\n",
    "            \n",
    "            qpeak_alpha_array[r,c] = alpha(sr_sim_ann, sr_obs_ann)\n",
    "            qpeak_beta_array[r,c] = beta(sr_sim_ann, sr_obs_ann)\n",
    "            qpeak_corr_array[r,c] = corr(sr_sim_ann, sr_obs_ann)\n",
    "        r += 1\n",
    "\n",
    "    qpeak_alpha[model] = qpeak_alpha_array\n",
    "    qpeak_beta[model] = qpeak_beta_array\n",
    "    qpeak_corr[model] = qpeak_corr_array"
   ]
  },
  {
   "cell_type": "code",
   "execution_count": 12,
   "metadata": {},
   "outputs": [
    {
     "name": "stdout",
     "output_type": "stream",
     "text": [
      "VIC\n",
      "NSE\n",
      "      nse       kge      kge_2alpha      kge_5alpha       sig1      \n",
      "      cal  val  cal  val        cal  val        cal  val   cal   val\n",
      "0.25 0.49 0.46 0.42 0.41       0.32 0.33       0.26 0.28 -0.54 -0.14\n",
      "0.50 0.59 0.55 0.52 0.52       0.46 0.48       0.41 0.43 -0.02  0.20\n",
      "0.75 0.69 0.64 0.64 0.62       0.62 0.60       0.60 0.59  0.29  0.38\n",
      "\n",
      "KGE\n",
      "      nse       kge      kge_2alpha      kge_5alpha       sig1      \n",
      "      cal  val  cal  val        cal  val        cal  val   cal   val\n",
      "0.25 0.50 0.45 0.53 0.49       0.48 0.48       0.40 0.44 -0.29 -0.00\n",
      "0.50 0.63 0.59 0.69 0.64       0.67 0.63       0.66 0.61  0.21  0.34\n",
      "0.75 0.73 0.69 0.80 0.74       0.79 0.74       0.78 0.73  0.52  0.57\n",
      "\n",
      "alpha\n",
      "      nse       kge      kge_2alpha      kge_5alpha      sig1     \n",
      "      cal  val  cal  val        cal  val        cal  val  cal  val\n",
      "0.25 0.65 0.60 0.72 0.66       0.90 0.76       0.98 0.82 1.13 0.99\n",
      "0.50 0.74 0.72 0.92 0.83       0.98 0.89       0.99 0.92 1.29 1.15\n",
      "0.75 0.84 0.82 0.99 0.97       1.00 1.01       1.00 1.03 1.47 1.34\n",
      "\n",
      "beta\n",
      "      nse       kge      kge_2alpha      kge_5alpha      sig1     \n",
      "      cal  val  cal  val        cal  val        cal  val  cal  val\n",
      "0.25 0.93 0.87 1.00 0.93       1.00 0.94       1.00 0.97 1.14 1.12\n",
      "0.50 1.01 0.97 1.06 1.01       1.10 1.04       1.12 1.08 1.56 1.42\n",
      "0.75 1.12 1.07 1.14 1.09       1.29 1.20       1.40 1.27 2.13 1.85\n",
      "\n",
      "corr\n",
      "      nse       kge      kge_2alpha      kge_5alpha      sig1     \n",
      "      cal  val  cal  val        cal  val        cal  val  cal  val\n",
      "0.25 0.71 0.71 0.69 0.69       0.64 0.65       0.63 0.64 0.60 0.63\n",
      "0.50 0.78 0.76 0.75 0.75       0.72 0.72       0.71 0.71 0.67 0.68\n",
      "0.75 0.83 0.82 0.81 0.81       0.81 0.80       0.80 0.80 0.74 0.75\n",
      "-------------------\n",
      "\n",
      "mHM\n",
      "NSE\n",
      "      nse       kge      kge_2alpha      kge_5alpha       sig1     \n",
      "      cal  val  cal  val        cal  val        cal  val   cal  val\n",
      "0.25 0.65 0.58 0.58 0.53       0.55 0.51       0.53 0.49 -0.01 0.00\n",
      "0.50 0.72 0.67 0.67 0.63       0.66 0.61       0.64 0.60  0.27 0.32\n",
      "0.75 0.78 0.73 0.74 0.71       0.73 0.70       0.72 0.69  0.44 0.51\n",
      "\n",
      "KGE\n",
      "      nse       kge      kge_2alpha      kge_5alpha      sig1     \n",
      "      cal  val  cal  val        cal  val        cal  val  cal  val\n",
      "0.25 0.66 0.58 0.76 0.66       0.75 0.65       0.74 0.64 0.27 0.33\n",
      "0.50 0.74 0.69 0.82 0.74       0.82 0.74       0.81 0.74 0.51 0.51\n",
      "0.75 0.81 0.76 0.87 0.80       0.86 0.80       0.86 0.80 0.63 0.64\n",
      "\n",
      "alpha\n",
      "      nse       kge      kge_2alpha      kge_5alpha      sig1     \n",
      "      cal  val  cal  val        cal  val        cal  val  cal  val\n",
      "0.25 0.77 0.71 0.96 0.84       0.98 0.85       0.99 0.86 0.96 0.86\n",
      "0.50 0.83 0.80 0.99 0.94       0.99 0.95       1.00 0.96 1.09 1.04\n",
      "0.75 0.87 0.88 1.00 1.03       1.00 1.04       1.00 1.04 1.20 1.19\n",
      "\n",
      "beta\n",
      "      nse       kge      kge_2alpha      kge_5alpha      sig1     \n",
      "      cal  val  cal  val        cal  val        cal  val  cal  val\n",
      "0.25 0.89 0.82 0.99 0.87       0.99 0.86       0.99 0.86 0.78 0.78\n",
      "0.50 0.97 0.92 1.00 0.93       1.00 0.93       1.00 0.93 1.04 0.99\n",
      "0.75 1.04 1.01 1.01 1.01       1.01 1.01       1.01 1.01 1.37 1.25\n",
      "\n",
      "corr\n",
      "      nse       kge      kge_2alpha      kge_5alpha      sig1     \n",
      "      cal  val  cal  val        cal  val        cal  val  cal  val\n",
      "0.25 0.82 0.79 0.78 0.77       0.78 0.76       0.76 0.75 0.58 0.62\n",
      "0.50 0.85 0.83 0.83 0.82       0.83 0.81       0.82 0.81 0.70 0.71\n",
      "0.75 0.89 0.87 0.87 0.85       0.87 0.85       0.86 0.85 0.77 0.78\n",
      "-------------------\n"
     ]
    }
   ],
   "source": [
    "# Compute quartiles and median for metrics for each objective function and period\n",
    "# Multi-level header\n",
    "iterables = [obj_fun_list, ['cal', 'val']]\n",
    "index = pd.MultiIndex.from_product(iterables)\n",
    "\n",
    "#Initialize dictionary\n",
    "nse_all = {}\n",
    "alpha_all = {}\n",
    "beta_all = {} \n",
    "corr_all = {} \n",
    "kge_all = {} \n",
    "pbiasFHV_all = {}\n",
    "pbiasQpeak_all = {} \n",
    "\n",
    "for model in model_list:\n",
    "    # Combine cal and val arrays\n",
    "    nse_all_array = np.zeros((nbasin,ndata*2))\n",
    "    kge_all_array = np.zeros((nbasin,ndata*2))\n",
    "    alpha_all_array = np.zeros((nbasin,ndata*2))\n",
    "    beta_all_array = np.zeros((nbasin,ndata*2))\n",
    "    corr_all_array = np.zeros((nbasin,ndata*2))\n",
    "    for idx, _ in enumerate(obj_fun_list):\n",
    "        nse_all_array[:,idx*2] = nse_cal[model][:,idx]\n",
    "        nse_all_array[:,idx*2+1] = nse_val[model][:,idx]\n",
    "        kge_all_array[:,idx*2] = kge_cal[model][:,idx]\n",
    "        kge_all_array[:,idx*2+1] = kge_val[model][:,idx]    \n",
    "        alpha_all_array[:,idx*2] = alpha_cal[model][:,idx]\n",
    "        alpha_all_array[:,idx*2+1] = alpha_val[model][:,idx]    \n",
    "        beta_all_array[:,idx*2] = beta_cal[model][:,idx]\n",
    "        beta_all_array[:,idx*2+1] = beta_val[model][:,idx]    \n",
    "        corr_all_array[:,idx*2] = corr_cal[model][:,idx]\n",
    "        corr_all_array[:,idx*2+1] = corr_val[model][:,idx]\n",
    "        \n",
    "    nse_all[model] = nse_all_array\n",
    "    kge_all[model] = kge_all_array\n",
    "    alpha_all[model] = alpha_all_array\n",
    "    beta_all[model] = beta_all_array\n",
    "    corr_all[model] = corr_all_array\n",
    "    \n",
    "# convert numpy arrays to DataFrames\n",
    "df_nse_vic = pd.DataFrame(nse_all['vic'], index=df_hcdn['id'], columns=index)\n",
    "df_kge_vic = pd.DataFrame(kge_all['vic'], index=df_hcdn['id'], columns=index)\n",
    "df_alpha_vic = pd.DataFrame(alpha_all['vic'], index=df_hcdn['id'], columns=index)\n",
    "df_beta_vic = pd.DataFrame(beta_all['vic'], index=df_hcdn['id'], columns=index)\n",
    "df_corr_vic = pd.DataFrame(corr_all['vic'], index=df_hcdn['id'], columns=index)\n",
    "\n",
    "# convert numpy arrays to DataFrames\n",
    "df_nse_mhm = pd.DataFrame(nse_all['mhm'], index=df_hcdn['id'], columns=index)\n",
    "df_kge_mhm = pd.DataFrame(kge_all['mhm'], index=df_hcdn['id'], columns=index)\n",
    "df_alpha_mhm = pd.DataFrame(alpha_all['mhm'], index=df_hcdn['id'], columns=index)\n",
    "df_beta_mhm = pd.DataFrame(beta_all['mhm'], index=df_hcdn['id'], columns=index)\n",
    "df_corr_mhm = pd.DataFrame(corr_all['mhm'], index=df_hcdn['id'], columns=index)\n",
    "\n",
    "# Print quartiles\n",
    "pd.options.display.float_format = '{:,.2f}'.format\n",
    "print('VIC')\n",
    "print('NSE')\n",
    "print(df_nse_vic.quantile([.25, .5, .75]))\n",
    "print('\\nKGE')\n",
    "print(df_kge_vic.quantile([.25, .5, .75]))\n",
    "print('\\nalpha')\n",
    "print(df_alpha_vic.quantile([.25, .5, .75]))\n",
    "print('\\nbeta')\n",
    "print(df_beta_vic.quantile([.25, .5, .75]))\n",
    "print('\\ncorr')\n",
    "print(df_corr_vic.quantile([.25, .5, .75]))\n",
    "print('-------------------')\n",
    "print('\\nmHM')\n",
    "print('NSE')\n",
    "print(df_nse_mhm.quantile([.25, .5, .75]))\n",
    "print('\\nKGE')\n",
    "print(df_kge_mhm.quantile([.25, .5, .75]))\n",
    "print('\\nalpha')\n",
    "print(df_alpha_mhm.quantile([.25, .5, .75]))\n",
    "print('\\nbeta')\n",
    "print(df_beta_mhm.quantile([.25, .5, .75]))\n",
    "print('\\ncorr')\n",
    "print(df_corr_mhm.quantile([.25, .5, .75]))\n",
    "print('-------------------')"
   ]
  },
  {
   "cell_type": "code",
   "execution_count": 13,
   "metadata": {},
   "outputs": [
    {
     "data": {
      "image/png": "[encoded data removed]",
      "text/plain": [
       "<matplotlib.figure.Figure at 0x116cedad0>"
      ]
     },
     "metadata": {},
     "output_type": "display_data"
    }
   ],
   "source": [
    "# 4 panel CDFs (alpha, beta, correlation and KGE)\n",
    "model = 'vic'\n",
    "\n",
    "fig = plt.figure(figsize=(6.5, 5.0))\n",
    "fig.suptitle('%s' % model, fontsize=14, fontweight='bold')\n",
    "fig.subplots_adjust(left=0.095,right=0.975,bottom=0.095,top=0.935,wspace=0.25,hspace=0.25)\n",
    "\n",
    "ax1 = plt.subplot2grid((2, 2), (0, 0))\n",
    "ax2 = plt.subplot2grid((2, 2), (0, 1))\n",
    "ax3 = plt.subplot2grid((2, 2), (1, 0))\n",
    "ax4 = plt.subplot2grid((2, 2), (1, 1))\n",
    "\n",
    "ax1.tick_params(labelsize=7)\n",
    "ax2.tick_params(labelsize=7)\n",
    "ax3.tick_params(labelsize=7)\n",
    "ax4.tick_params(labelsize=7)\n",
    "\n",
    "clr=['k','r','b','c','m','g']\n",
    "lstyle=['-','-','-','-','-','-','-']\n",
    "\n",
    "#panel a) alpha\n",
    "for c in range(ndata):\n",
    "    xdata = alpha_val[model][:,c]\n",
    "    xdata_sort = np.sort(xdata)\n",
    "    prob_metric = np.arange(1,float(len(xdata)+1))/(1+len(xdata))\n",
    "    maxval = 1.1*np.max(xdata)\n",
    "    minval = 0.9*np.min(xdata)\n",
    "    ax1.plot(xdata_sort,prob_metric,c=clr[c],ls=lstyle[c],label=obj_fun_list[c],linewidth=1.25)\n",
    "lgd = ax1.legend(frameon=True,loc=\"lower right\", handlelength=2, prop={'size':8})\n",
    "lgd.get_frame().set_facecolor('white')\n",
    "ax1.set_xlim(0.0, 2.0) #ratio\n",
    "ax1.set_ylim(0, 1)\n",
    "ax1.set_yticks(np.arange(0, 1, 0.25))\n",
    "ax1.set_xlabel('alpha', fontSize=9)\n",
    "ax1.set_ylabel('F(x)', fontSize=9)\n",
    "\n",
    "#panel b) beta\n",
    "for c in range(ndata):\n",
    "    xdata = beta_val[model][:,c]\n",
    "    xdata_sort = np.sort(xdata)\n",
    "    prob_metric = np.arange(1,float(len(xdata)+1))/(1+len(xdata))\n",
    "    maxval = 1.1*np.max(xdata)\n",
    "    minval = 0.9*np.min(xdata)\n",
    "    ax2.plot(xdata_sort,prob_metric,c=clr[c],ls=lstyle[c],label=obj_fun_list[c],linewidth=1.25)\n",
    "ax2.set_xlim(0.0, 2.0) #ratio\n",
    "ax2.set_ylim(0, 1)\n",
    "ax2.set_yticks(np.arange(0, 1, 0.25))\n",
    "ax2.set_xlabel('beta', fontSize=9)\n",
    "ax2.set_ylabel('F(x)', fontSize=9)\n",
    "\n",
    "#panel c) correlation\n",
    "for c in range(ndata):\n",
    "    xdata = corr_val[model][:,c]\n",
    "    xdata_sort = np.sort(xdata)\n",
    "    prob_metric = np.arange(1,float(len(xdata)+1))/(1+len(xdata))\n",
    "    maxval = 1.1*np.max(xdata)\n",
    "    minval = 0.9*np.min(xdata)\n",
    "    ax3.plot(xdata_sort,prob_metric,c=clr[c],ls=lstyle[c],label=obj_fun_list[c],linewidth=1.25)\n",
    "ax3.set_xlim(0.0, 1.0) # corr\n",
    "ax3.set_ylim(0, 1)\n",
    "ax3.set_yticks(np.arange(0, 1, 0.25))\n",
    "ax3.set_xlabel('Correlation', fontSize=9)\n",
    "ax3.set_ylabel('F(x)', fontSize=9)\n",
    "\n",
    "#panel d) KGE\n",
    "for c in range(ndata):\n",
    "    xdata = kge_val[model][:,c]\n",
    "    xdata_sort = np.sort(xdata)\n",
    "    prob_metric = np.arange(1,float(len(xdata)+1))/(1+len(xdata))\n",
    "    maxval = 1.1*np.max(xdata)\n",
    "    minval = 0.9*np.min(xdata)\n",
    "    ax4.plot(xdata_sort,prob_metric,c=clr[c],ls=lstyle[c],label=obj_fun_list[c],linewidth=1.25)\n",
    "ax4.set_xlim(-0.2, 1.0)\n",
    "ax4.set_ylim(0, 1)\n",
    "ax4.set_yticks(np.arange(0, 1, 0.25))\n",
    "ax4.set_xlabel('KGE', fontSize=9)\n",
    "ax4.set_ylabel('F(x)', fontSize=9)\n",
    "plt.savefig('../../Paper5_ffa/supple_figure/kge.cdf.%s.pdf'%(model),\n",
    "            format='pdf', \n",
    "            dpi=300,\n",
    "            bbox_extra_artists=(lgd,))\n",
    "            #bbox_inches='tight')"
   ]
  },
  {
   "cell_type": "code",
   "execution_count": 14,
   "metadata": {},
   "outputs": [
    {
     "data": {
      "image/png": "[encoded data removed]",
      "text/plain": [
       "<matplotlib.figure.Figure at 0x104111f10>"
      ]
     },
     "metadata": {},
     "output_type": "display_data"
    }
   ],
   "source": [
    "# Construct boxplots for annual peak bias group-by periods\n",
    "model = 'mhm'\n",
    "df_pbiasQpeak_cal = pd.DataFrame(pbiasQpeak_cal[model], index=df_hcdn['id'], columns=obj_fun_list)\n",
    "df_pbiasQpeak_val = pd.DataFrame(pbiasQpeak_val[model], index=df_hcdn['id'], columns=obj_fun_list)\n",
    "df_pbiasQpeak_cal['Period'] = ['cal' for _ in df_hcdn['id']]\n",
    "df_pbiasQpeak_val['Period'] = ['val' for _ in df_hcdn['id']]\n",
    "df_pbiasQpeak = pd.concat([df_pbiasQpeak_cal, df_pbiasQpeak_val], axis=0)\n",
    "\n",
    "dd_pbiasQpeak=pd.melt(df_pbiasQpeak, id_vars=['Period'], value_vars=obj_fun_list, var_name='OF')\n",
    "\n",
    "plt.figure(figsize=(6.5,5))\n",
    "sns.set_style(\"whitegrid\")\n",
    "ax11 = sns.boxplot(x='Period', y='value', data=dd_pbiasQpeak, hue='OF', linewidth=1.0)\n",
    "handles, labels = ax11.get_legend_handles_labels()\n",
    "lgd = plt.legend(bbox_to_anchor=(1.01, 1), loc=2, borderaxespad=0.)\n",
    "ax11.set_ylim([-1.0,0.8])\n",
    "ax11.set_title('%s' % model, fontsize=14, fontweight='bold')\n",
    "plt.savefig('../../Paper5_ffa/supple_figure/pbiasQpeak.boxplot.%s.pdf'%(model),\n",
    "            format='pdf', \n",
    "            dpi=300,\n",
    "            bbox_extra_artists=(lgd,), \n",
    "            bbox_inches='tight')"
   ]
  },
  {
   "cell_type": "code",
   "execution_count": 15,
   "metadata": {},
   "outputs": [
    {
     "data": {
      "image/png": "[encoded data removed]",
      "text/plain": [
       "<matplotlib.figure.Figure at 0x116b2f350>"
      ]
     },
     "metadata": {},
     "output_type": "display_data"
    }
   ],
   "source": [
    "# Construct boxplots for metrics group-by periods\n",
    "model = 'mhm'\n",
    "df_pbiasFHV_cal = pd.DataFrame(pbiasFHV_cal[model], index=df_hcdn['id'], columns=obj_fun_list)\n",
    "df_pbiasFHV_val = pd.DataFrame(pbiasFHV_val[model], index=df_hcdn['id'], columns=obj_fun_list)\n",
    "df_pbiasFHV_cal['Period'] = ['cal' for _ in df_hcdn['id']]\n",
    "df_pbiasFHV_val['Period'] = ['val' for _ in df_hcdn['id']]\n",
    "df_pbiasFHV = pd.concat([df_pbiasFHV_cal, df_pbiasFHV_val], axis=0)\n",
    "\n",
    "dd=pd.melt(df_pbiasFHV, id_vars=['Period'], value_vars=obj_fun_list, var_name='OF')\n",
    "\n",
    "plt.figure(figsize=(6.5,5))\n",
    "sns.set_style(\"whitegrid\")\n",
    "ax21 = sns.boxplot(x='Period', y='value', data=dd, hue='OF', linewidth=1.0)\n",
    "handles, labels = ax21.get_legend_handles_labels()\n",
    "lgd = plt.legend(bbox_to_anchor=(1.01, 1), loc=2, borderaxespad=0.)\n",
    "ax21.set_ylim([-0.8,0.8])\n",
    "ax21.set_title('%s' % model, fontsize=14, fontweight='bold')\n",
    "plt.savefig('../../Paper5_ffa/supple_figure/pbiasFHV.boxplot.%s.pdf' % (model),\n",
    "            format='pdf', \n",
    "            dpi=300, \n",
    "            bbox_extra_artists=(lgd,), \n",
    "            bbox_inches='tight')"
   ]
  },
  {
   "cell_type": "markdown",
   "metadata": {},
   "source": [
    "## Flood frequency bias"
   ]
  },
  {
   "cell_type": "code",
   "execution_count": 16,
   "metadata": {},
   "outputs": [
    {
     "data": {
      "image/png": "[encoded data removed]",
      "text/plain": [
       "<matplotlib.figure.Figure at 0x116b36150>"
      ]
     },
     "metadata": {},
     "output_type": "display_data"
    }
   ],
   "source": [
    "# Construct boxplots for flood magnitude bias at three return periods - gropu by return periods\n",
    "model = 'vic'\n",
    "df_pbiasQ20 = pd.DataFrame(pbiasQ20[model], index=df_hcdn['id'], columns=obj_fun_list)\n",
    "df_pbiasQ10 = pd.DataFrame(pbiasQ10[model], index=df_hcdn['id'], columns=obj_fun_list)\n",
    "df_pbiasQ5 = pd.DataFrame(pbiasQ5[model], index=df_hcdn['id'], columns=obj_fun_list)\n",
    "df_pbiasQ20['return period'] = ['Q20yr' for _ in df_hcdn['id']]\n",
    "df_pbiasQ10['return period'] = ['Q10yr' for _ in df_hcdn['id']]\n",
    "df_pbiasQ5['return period'] = ['Q5yr' for _ in df_hcdn['id']]\n",
    "\n",
    "df_pbiasQ = pd.concat([df_pbiasQ5, df_pbiasQ10, df_pbiasQ20], axis=0)\n",
    "\n",
    "dd_Q = pd.melt(df_pbiasQ, id_vars=['return period'], value_vars=obj_fun_list, var_name='OF')\n",
    "\n",
    "plt.figure(figsize=(6.5,5))\n",
    "sns.set_style(\"whitegrid\")\n",
    "ax31 = sns.boxplot(x='return period', y='value', data=dd_Q, hue='OF', linewidth=1.0)\n",
    "handles, labels = ax31.get_legend_handles_labels()\n",
    "lgd = plt.legend(bbox_to_anchor=(1.01, 1), loc=2, borderaxespad=0.)\n",
    "ax31.set_ylim([-0.8,0.8])\n",
    "ax31.set_title('%s' % model, fontsize=14, fontweight='bold')\n",
    "plt.savefig('../../Paper5_ffa/supple_figure/pbiasQ.boxplot.%s.pdf' % (model),\n",
    "            format='pdf', \n",
    "            dpi=300, \n",
    "            bbox_extra_artists=(lgd,), \n",
    "            bbox_inches='tight')"
   ]
  },
  {
   "cell_type": "markdown",
   "metadata": {},
   "source": [
    "## Why calibration with annual peak flow bias still underestimate substantially?\n",
    "It is probably because we use bias of annual peak flow for objective function, and year-year variabilty and timing of annual peak series are not considered, so potentially more extream peak flow is likely to be underestimated.\n",
    "\n",
    "This is to illustrate this"
   ]
  },
  {
   "cell_type": "code",
   "execution_count": 17,
   "metadata": {},
   "outputs": [
    {
     "name": "stdout",
     "output_type": "stream",
     "text": [
      "correlation with %bias Q20yr\n",
      "      alpha beta\n",
      "vic - 0.90  0.62\n",
      "mhm - 0.93  0.69\n",
      "\n",
      "correlation with %bias Q5yr\n",
      "      alpha beta\n",
      "vic - 0.59  0.79\n",
      "mhm - 0.59  0.83\n"
     ]
    },
    {
     "data": {
      "image/png": "[encoded data removed]",
      "text/plain": [
       "<matplotlib.figure.Figure at 0x116b8c410>"
      ]
     },
     "metadata": {},
     "output_type": "display_data"
    }
   ],
   "source": [
    "# ------------------------------------\n",
    "r_alpha_q20_vic = corr(qpeak_alpha['vic'][:,-1],pbiasQ20['vic'][:,-1])\n",
    "r_beta_q20_vic  = corr(qpeak_beta['vic'][:,-1],pbiasQ20['vic'][:,-1])\n",
    "\n",
    "r_alpha_q20_mhm = corr(qpeak_alpha['mhm'][:,-1],pbiasQ20['mhm'][:,-1])\n",
    "r_beta_q20_mhm  = corr(qpeak_beta['mhm'][:,-1],pbiasQ20['mhm'][:,-1])\n",
    "\n",
    "r_alpha_q5_vic = corr(qpeak_alpha['vic'][:,-1],pbiasQ5['vic'][:,-1])\n",
    "r_beta_q5_vic  = corr(qpeak_beta['vic'][:,-1], pbiasQ5['vic'][:,-1])\n",
    "\n",
    "r_alpha_q5_mhm = corr(qpeak_alpha['mhm'][:,-1],pbiasQ5['mhm'][:,-1])\n",
    "r_beta_q5_mhm  = corr(qpeak_beta['mhm'][:,-1], pbiasQ5['mhm'][:,-1])\n",
    "\n",
    "print('correlation with %bias Q20yr')\n",
    "print('      alpha beta')\n",
    "print('vic - %.2f  %.2f' % (r_alpha_q20_vic,r_beta_q20_vic))\n",
    "print('mhm - %.2f  %.2f' % (r_alpha_q20_mhm,r_beta_q20_mhm))\n",
    "print('\\ncorrelation with %bias Q5yr')\n",
    "print('      alpha beta')\n",
    "print('vic - %.2f  %.2f' % (r_alpha_q5_vic, r_beta_q5_vic))\n",
    "print('mhm - %.2f  %.2f' % (r_alpha_q5_mhm,r_beta_q5_mhm))\n",
    "\n",
    "# ------------------------------------\n",
    "fig = plt.figure(figsize=(6.5, 6.5))\n",
    "fig.subplots_adjust(left=0.095,right=0.975,bottom=0.095,top=0.935,wspace=0.25,hspace=0.35)\n",
    "\n",
    "ax41 = plt.subplot2grid((2, 2), (0, 0))\n",
    "ax42 = plt.subplot2grid((2, 2), (0, 1))\n",
    "ax43 = plt.subplot2grid((2, 2), (1, 0))\n",
    "ax44 = plt.subplot2grid((2, 2), (1, 1))\n",
    "\n",
    "ax41.plot(qpeak_alpha['vic'][:,-1],pbiasQ20['vic'][:,-1],'o',alpha=0.5, label='VIC')\n",
    "ax41.plot(qpeak_alpha['mhm'][:,-1],pbiasQ20['mhm'][:,-1],'o',alpha=0.5, label='mHM')\n",
    "ax41.legend()\n",
    "ax41.set_xlim([0.0,2.0])\n",
    "ax41.set_ylim([-1.0,1.2])\n",
    "ax41.set_xlabel(r'$\\alpha$ (Annual peakQ)')\n",
    "ax41.set_ylabel('%bias Q20yr')\n",
    "ax41.text(0.1,1.0,'VIC: %.2f'%r_alpha_q20_vic, bbox={'facecolor':'w','edgecolor':'w'})\n",
    "ax41.text(0.1,0.8,'mHM: %.2f'%r_alpha_q20_mhm, bbox={'facecolor':'w','edgecolor':'w'})\n",
    "lgd = ax41.legend(frameon=True,loc=\"lower right\", handlelength=2, prop={'size':9})\n",
    "lgd.get_frame().set_facecolor('white')\n",
    "\n",
    "ax42.plot(qpeak_beta['vic'][:,-1],pbiasQ20['vic'][:,-1],'o',alpha=0.5)\n",
    "ax42.plot(qpeak_beta['mhm'][:,-1],pbiasQ20['mhm'][:,-1],'o',alpha=0.5)\n",
    "ax42.set_xlim([0.0,2.0])\n",
    "ax42.set_ylim([-1.0,1.2])\n",
    "ax42.set_xlabel(r'$\\beta$ (Annual peakQ)')\n",
    "ax42.text(0.1,1.0,'VIC: %.2f'%r_beta_q20_vic, bbox={'facecolor':'w','edgecolor':'w'})\n",
    "ax42.text(0.1,0.8,'mHM: %.2f'%r_beta_q20_mhm, bbox={'facecolor':'w','edgecolor':'w'})\n",
    "\n",
    "ax43.plot(qpeak_alpha['vic'][:,-1],pbiasQ5['vic'][:,-1],'o',alpha=0.5)\n",
    "ax43.plot(qpeak_alpha['mhm'][:,-1],pbiasQ5['mhm'][:,-1],'o',alpha=0.5)\n",
    "ax43.set_xlim([0.0,2.0])\n",
    "ax43.set_ylim([-1.0,1.2])\n",
    "ax43.set_xlabel(r'$\\alpha$ (Annual peakQ)')\n",
    "ax43.set_ylabel('%bias Q5yr')\n",
    "ax43.text(0.1,1.0,'VIC: %.2f'%r_alpha_q5_vic, bbox={'facecolor':'w','edgecolor':'w'})\n",
    "ax43.text(0.1,0.8,'mHM: %.2f'%r_alpha_q5_mhm, bbox={'facecolor':'w','edgecolor':'w'})\n",
    "\n",
    "ax44.plot(qpeak_beta['vic'][:,-1],pbiasQ5['vic'][:,-1],'o',alpha=0.5)\n",
    "ax44.plot(qpeak_beta['mhm'][:,-1],pbiasQ5['mhm'][:,-1],'o',alpha=0.5)\n",
    "ax44.set_xlim([0.0,2.0])\n",
    "ax44.set_ylim([-1.0,1.2])\n",
    "ax44.set_xlabel(r'$\\beta$ (Annual peakQ)')\n",
    "ax44.text(0.1,1.0,'VIC: %.2f'%r_beta_q5_vic, bbox={'facecolor':'w','edgecolor':'w'})\n",
    "ax44.text(0.1,0.8,'mHM: %.2f'%r_beta_q5_mhm, bbox={'facecolor':'w','edgecolor':'w'})\n",
    "\n",
    "plt.savefig('../../Paper5_ffa/supple_figure/scatter_plot_peakQ_vs_annualQ_stat.pdf',\n",
    "            format='pdf', \n",
    "            dpi=300,\n",
    "            bbox_extra_artists=(lgd,), \n",
    "            bbox_inches='tight')"
   ]
  },
  {
   "cell_type": "markdown",
   "metadata": {
    "collapsed": true
   },
   "source": [
    "# Plot time series for each basin\n",
    "\n",
    "4 panels\n",
    "- top-left:  VIC annual maximum flow for each year from 1991-2008\n",
    "- top-right: mHM annual maximum flow for each year from 1991-2008\n",
    "- bot-left:  VIC 1991-2008 mean annual cycle at daily step\n",
    "- bot-right: mHM 1991-2008 mean annual cycle at daily step"
   ]
  },
  {
   "cell_type": "code",
   "execution_count": 207,
   "metadata": {},
   "outputs": [
    {
     "data": {
      "text/plain": [
       "<matplotlib.figure.Figure at 0x195dc5410>"
      ]
     },
     "metadata": {},
     "output_type": "display_data"
    },
    {
     "data": {
      "text/plain": [
       "<matplotlib.figure.Figure at 0x1fc66fd90>"
      ]
     },
     "metadata": {},
     "output_type": "display_data"
    },
    {
     "data": {
      "text/plain": [
       "<matplotlib.figure.Figure at 0x1f26bc610>"
      ]
     },
     "metadata": {},
     "output_type": "display_data"
    },
    {
     "data": {
      "text/plain": [
       "<matplotlib.figure.Figure at 0x11edf6290>"
      ]
     },
     "metadata": {},
     "output_type": "display_data"
    },
    {
     "data": {
      "text/plain": [
       "<matplotlib.figure.Figure at 0x12bcc7750>"
      ]
     },
     "metadata": {},
     "output_type": "display_data"
    },
    {
     "data": {
      "text/plain": [
       "<matplotlib.figure.Figure at 0x11d284c10>"
      ]
     },
     "metadata": {},
     "output_type": "display_data"
    },
    {
     "data": {
      "text/plain": [
       "<matplotlib.figure.Figure at 0x128ea4550>"
      ]
     },
     "metadata": {},
     "output_type": "display_data"
    },
    {
     "data": {
      "text/plain": [
       "<matplotlib.figure.Figure at 0x1fd9fb210>"
      ]
     },
     "metadata": {},
     "output_type": "display_data"
    },
    {
     "data": {
      "text/plain": [
       "<matplotlib.figure.Figure at 0x1f959d3d0>"
      ]
     },
     "metadata": {},
     "output_type": "display_data"
    },
    {
     "data": {
      "text/plain": [
       "<matplotlib.figure.Figure at 0x11c112bd0>"
      ]
     },
     "metadata": {},
     "output_type": "display_data"
    },
    {
     "data": {
      "text/plain": [
       "<matplotlib.figure.Figure at 0x1fdee3b90>"
      ]
     },
     "metadata": {},
     "output_type": "display_data"
    },
    {
     "data": {
      "text/plain": [
       "<matplotlib.figure.Figure at 0x120e5a3d0>"
      ]
     },
     "metadata": {},
     "output_type": "display_data"
    },
    {
     "data": {
      "text/plain": [
       "<matplotlib.figure.Figure at 0x11eb0a690>"
      ]
     },
     "metadata": {},
     "output_type": "display_data"
    },
    {
     "data": {
      "text/plain": [
       "<matplotlib.figure.Figure at 0x12478fe90>"
      ]
     },
     "metadata": {},
     "output_type": "display_data"
    },
    {
     "data": {
      "text/plain": [
       "<matplotlib.figure.Figure at 0x1ff678410>"
      ]
     },
     "metadata": {},
     "output_type": "display_data"
    },
    {
     "data": {
      "text/plain": [
       "<matplotlib.figure.Figure at 0x201dc3f90>"
      ]
     },
     "metadata": {},
     "output_type": "display_data"
    },
    {
     "data": {
      "text/plain": [
       "<matplotlib.figure.Figure at 0x12bcc7110>"
      ]
     },
     "metadata": {},
     "output_type": "display_data"
    },
    {
     "data": {
      "text/plain": [
       "<matplotlib.figure.Figure at 0x1fc66fa90>"
      ]
     },
     "metadata": {},
     "output_type": "display_data"
    },
    {
     "data": {
      "text/plain": [
       "<matplotlib.figure.Figure at 0x11ee6c710>"
      ]
     },
     "metadata": {},
     "output_type": "display_data"
    },
    {
     "data": {
      "text/plain": [
       "<matplotlib.figure.Figure at 0x11ecea790>"
      ]
     },
     "metadata": {},
     "output_type": "display_data"
    },
    {
     "data": {
      "text/plain": [
       "<matplotlib.figure.Figure at 0x138454dd0>"
      ]
     },
     "metadata": {},
     "output_type": "display_data"
    },
    {
     "data": {
      "text/plain": [
       "<matplotlib.figure.Figure at 0x11e37b350>"
      ]
     },
     "metadata": {},
     "output_type": "display_data"
    },
    {
     "data": {
      "text/plain": [
       "<matplotlib.figure.Figure at 0x1fe4cf810>"
      ]
     },
     "metadata": {},
     "output_type": "display_data"
    },
    {
     "data": {
      "text/plain": [
       "<matplotlib.figure.Figure at 0x201dd4950>"
      ]
     },
     "metadata": {},
     "output_type": "display_data"
    },
    {
     "data": {
      "text/plain": [
       "<matplotlib.figure.Figure at 0x12b0f4710>"
      ]
     },
     "metadata": {},
     "output_type": "display_data"
    },
    {
     "data": {
      "text/plain": [
       "<matplotlib.figure.Figure at 0x1f269bb90>"
      ]
     },
     "metadata": {},
     "output_type": "display_data"
    },
    {
     "data": {
      "text/plain": [
       "<matplotlib.figure.Figure at 0x1fe523650>"
      ]
     },
     "metadata": {},
     "output_type": "display_data"
    },
    {
     "data": {
      "text/plain": [
       "<matplotlib.figure.Figure at 0x11e371450>"
      ]
     },
     "metadata": {},
     "output_type": "display_data"
    },
    {
     "data": {
      "text/plain": [
       "<matplotlib.figure.Figure at 0x1290225d0>"
      ]
     },
     "metadata": {},
     "output_type": "display_data"
    },
    {
     "data": {
      "text/plain": [
       "<matplotlib.figure.Figure at 0x12ac1ac10>"
      ]
     },
     "metadata": {},
     "output_type": "display_data"
    },
    {
     "data": {
      "text/plain": [
       "<matplotlib.figure.Figure at 0x1fdefcd50>"
      ]
     },
     "metadata": {},
     "output_type": "display_data"
    },
    {
     "data": {
      "text/plain": [
       "<matplotlib.figure.Figure at 0x11eb57e10>"
      ]
     },
     "metadata": {},
     "output_type": "display_data"
    },
    {
     "data": {
      "text/plain": [
       "<matplotlib.figure.Figure at 0x11ee0ee50>"
      ]
     },
     "metadata": {},
     "output_type": "display_data"
    },
    {
     "data": {
      "text/plain": [
       "<matplotlib.figure.Figure at 0x1fc6599d0>"
      ]
     },
     "metadata": {},
     "output_type": "display_data"
    },
    {
     "data": {
      "text/plain": [
       "<matplotlib.figure.Figure at 0x196460d10>"
      ]
     },
     "metadata": {},
     "output_type": "display_data"
    },
    {
     "data": {
      "text/plain": [
       "<matplotlib.figure.Figure at 0x120e3a850>"
      ]
     },
     "metadata": {},
     "output_type": "display_data"
    },
    {
     "data": {
      "text/plain": [
       "<matplotlib.figure.Figure at 0x194fc0910>"
      ]
     },
     "metadata": {},
     "output_type": "display_data"
    },
    {
     "data": {
      "text/plain": [
       "<matplotlib.figure.Figure at 0x1fd2c8c50>"
      ]
     },
     "metadata": {},
     "output_type": "display_data"
    },
    {
     "data": {
      "text/plain": [
       "<matplotlib.figure.Figure at 0x11e98e5d0>"
      ]
     },
     "metadata": {},
     "output_type": "display_data"
    },
    {
     "data": {
      "text/plain": [
       "<matplotlib.figure.Figure at 0x11ee0e8d0>"
      ]
     },
     "metadata": {},
     "output_type": "display_data"
    },
    {
     "data": {
      "text/plain": [
       "<matplotlib.figure.Figure at 0x1f269b810>"
      ]
     },
     "metadata": {},
     "output_type": "display_data"
    },
    {
     "data": {
      "text/plain": [
       "<matplotlib.figure.Figure at 0x138454090>"
      ]
     },
     "metadata": {},
     "output_type": "display_data"
    },
    {
     "data": {
      "text/plain": [
       "<matplotlib.figure.Figure at 0x120e7dbd0>"
      ]
     },
     "metadata": {},
     "output_type": "display_data"
    },
    {
     "data": {
      "text/plain": [
       "<matplotlib.figure.Figure at 0x1cf248710>"
      ]
     },
     "metadata": {},
     "output_type": "display_data"
    },
    {
     "data": {
      "text/plain": [
       "<matplotlib.figure.Figure at 0x12a8aef50>"
      ]
     },
     "metadata": {},
     "output_type": "display_data"
    },
    {
     "data": {
      "text/plain": [
       "<matplotlib.figure.Figure at 0x12b10f5d0>"
      ]
     },
     "metadata": {},
     "output_type": "display_data"
    },
    {
     "data": {
      "text/plain": [
       "<matplotlib.figure.Figure at 0x11e9c39d0>"
      ]
     },
     "metadata": {},
     "output_type": "display_data"
    },
    {
     "data": {
      "text/plain": [
       "<matplotlib.figure.Figure at 0x1ff8fd8d0>"
      ]
     },
     "metadata": {},
     "output_type": "display_data"
    },
    {
     "data": {
      "text/plain": [
       "<matplotlib.figure.Figure at 0x1208b0490>"
      ]
     },
     "metadata": {},
     "output_type": "display_data"
    },
    {
     "data": {
      "text/plain": [
       "<matplotlib.figure.Figure at 0x1fe523a50>"
      ]
     },
     "metadata": {},
     "output_type": "display_data"
    },
    {
     "data": {
      "text/plain": [
       "<matplotlib.figure.Figure at 0x1f71a5e50>"
      ]
     },
     "metadata": {},
     "output_type": "display_data"
    },
    {
     "data": {
      "text/plain": [
       "<matplotlib.figure.Figure at 0x11ea79e10>"
      ]
     },
     "metadata": {},
     "output_type": "display_data"
    },
    {
     "data": {
      "text/plain": [
       "<matplotlib.figure.Figure at 0x120e3acd0>"
      ]
     },
     "metadata": {},
     "output_type": "display_data"
    },
    {
     "data": {
      "text/plain": [
       "<matplotlib.figure.Figure at 0x11ea59f10>"
      ]
     },
     "metadata": {},
     "output_type": "display_data"
    },
    {
     "data": {
      "text/plain": [
       "<matplotlib.figure.Figure at 0x11d2c71d0>"
      ]
     },
     "metadata": {},
     "output_type": "display_data"
    },
    {
     "data": {
      "text/plain": [
       "<matplotlib.figure.Figure at 0x1ff3b2350>"
      ]
     },
     "metadata": {},
     "output_type": "display_data"
    },
    {
     "data": {
      "text/plain": [
       "<matplotlib.figure.Figure at 0x120dba350>"
      ]
     },
     "metadata": {},
     "output_type": "display_data"
    },
    {
     "data": {
      "text/plain": [
       "<matplotlib.figure.Figure at 0x1e98c9110>"
      ]
     },
     "metadata": {},
     "output_type": "display_data"
    },
    {
     "data": {
      "text/plain": [
       "<matplotlib.figure.Figure at 0x1295a3f90>"
      ]
     },
     "metadata": {},
     "output_type": "display_data"
    },
    {
     "data": {
      "text/plain": [
       "<matplotlib.figure.Figure at 0x11c39d090>"
      ]
     },
     "metadata": {},
     "output_type": "display_data"
    },
    {
     "data": {
      "text/plain": [
       "<matplotlib.figure.Figure at 0x116b8c610>"
      ]
     },
     "metadata": {},
     "output_type": "display_data"
    },
    {
     "data": {
      "text/plain": [
       "<matplotlib.figure.Figure at 0x121693790>"
      ]
     },
     "metadata": {},
     "output_type": "display_data"
    },
    {
     "data": {
      "text/plain": [
       "<matplotlib.figure.Figure at 0x12948a390>"
      ]
     },
     "metadata": {},
     "output_type": "display_data"
    },
    {
     "data": {
      "text/plain": [
       "<matplotlib.figure.Figure at 0x12087d2d0>"
      ]
     },
     "metadata": {},
     "output_type": "display_data"
    },
    {
     "data": {
      "text/plain": [
       "<matplotlib.figure.Figure at 0x12b0f5290>"
      ]
     },
     "metadata": {},
     "output_type": "display_data"
    },
    {
     "data": {
      "text/plain": [
       "<matplotlib.figure.Figure at 0x1209e7690>"
      ]
     },
     "metadata": {},
     "output_type": "display_data"
    },
    {
     "data": {
      "text/plain": [
       "<matplotlib.figure.Figure at 0x11ee6cb50>"
      ]
     },
     "metadata": {},
     "output_type": "display_data"
    },
    {
     "data": {
      "text/plain": [
       "<matplotlib.figure.Figure at 0x12b100f90>"
      ]
     },
     "metadata": {},
     "output_type": "display_data"
    },
    {
     "data": {
      "text/plain": [
       "<matplotlib.figure.Figure at 0x12a8b8250>"
      ]
     },
     "metadata": {},
     "output_type": "display_data"
    },
    {
     "data": {
      "text/plain": [
       "<matplotlib.figure.Figure at 0x1ff8fd150>"
      ]
     },
     "metadata": {},
     "output_type": "display_data"
    },
    {
     "data": {
      "text/plain": [
       "<matplotlib.figure.Figure at 0x12abd68d0>"
      ]
     },
     "metadata": {},
     "output_type": "display_data"
    },
    {
     "data": {
      "text/plain": [
       "<matplotlib.figure.Figure at 0x194c01910>"
      ]
     },
     "metadata": {},
     "output_type": "display_data"
    },
    {
     "data": {
      "text/plain": [
       "<matplotlib.figure.Figure at 0x12ad78490>"
      ]
     },
     "metadata": {},
     "output_type": "display_data"
    },
    {
     "data": {
      "text/plain": [
       "<matplotlib.figure.Figure at 0x12a8aefd0>"
      ]
     },
     "metadata": {},
     "output_type": "display_data"
    },
    {
     "data": {
      "text/plain": [
       "<matplotlib.figure.Figure at 0x11ebfd810>"
      ]
     },
     "metadata": {},
     "output_type": "display_data"
    },
    {
     "data": {
      "text/plain": [
       "<matplotlib.figure.Figure at 0x1fc659990>"
      ]
     },
     "metadata": {},
     "output_type": "display_data"
    },
    {
     "data": {
      "text/plain": [
       "<matplotlib.figure.Figure at 0x12088efd0>"
      ]
     },
     "metadata": {},
     "output_type": "display_data"
    },
    {
     "data": {
      "text/plain": [
       "<matplotlib.figure.Figure at 0x1fb412a10>"
      ]
     },
     "metadata": {},
     "output_type": "display_data"
    },
    {
     "data": {
      "text/plain": [
       "<matplotlib.figure.Figure at 0x12abd56d0>"
      ]
     },
     "metadata": {},
     "output_type": "display_data"
    },
    {
     "data": {
      "text/plain": [
       "<matplotlib.figure.Figure at 0x11ee8d4d0>"
      ]
     },
     "metadata": {},
     "output_type": "display_data"
    },
    {
     "data": {
      "text/plain": [
       "<matplotlib.figure.Figure at 0x1ff152b90>"
      ]
     },
     "metadata": {},
     "output_type": "display_data"
    },
    {
     "data": {
      "text/plain": [
       "<matplotlib.figure.Figure at 0x1208b94d0>"
      ]
     },
     "metadata": {},
     "output_type": "display_data"
    },
    {
     "data": {
      "text/plain": [
       "<matplotlib.figure.Figure at 0x1cf248290>"
      ]
     },
     "metadata": {},
     "output_type": "display_data"
    },
    {
     "data": {
      "text/plain": [
       "<matplotlib.figure.Figure at 0x12b100a10>"
      ]
     },
     "metadata": {},
     "output_type": "display_data"
    },
    {
     "data": {
      "text/plain": [
       "<matplotlib.figure.Figure at 0x12b10fe50>"
      ]
     },
     "metadata": {},
     "output_type": "display_data"
    },
    {
     "data": {
      "text/plain": [
       "<matplotlib.figure.Figure at 0x11eb47dd0>"
      ]
     },
     "metadata": {},
     "output_type": "display_data"
    },
    {
     "data": {
      "text/plain": [
       "<matplotlib.figure.Figure at 0x120850850>"
      ]
     },
     "metadata": {},
     "output_type": "display_data"
    },
    {
     "data": {
      "text/plain": [
       "<matplotlib.figure.Figure at 0x11d2c7850>"
      ]
     },
     "metadata": {},
     "output_type": "display_data"
    },
    {
     "data": {
      "text/plain": [
       "<matplotlib.figure.Figure at 0x1abc73750>"
      ]
     },
     "metadata": {},
     "output_type": "display_data"
    },
    {
     "data": {
      "text/plain": [
       "<matplotlib.figure.Figure at 0x12ac1a550>"
      ]
     },
     "metadata": {},
     "output_type": "display_data"
    },
    {
     "data": {
      "text/plain": [
       "<matplotlib.figure.Figure at 0x120fddd50>"
      ]
     },
     "metadata": {},
     "output_type": "display_data"
    },
    {
     "data": {
      "text/plain": [
       "<matplotlib.figure.Figure at 0x11cd8f210>"
      ]
     },
     "metadata": {},
     "output_type": "display_data"
    },
    {
     "data": {
      "text/plain": [
       "<matplotlib.figure.Figure at 0x11eb45490>"
      ]
     },
     "metadata": {},
     "output_type": "display_data"
    },
    {
     "data": {
      "text/plain": [
       "<matplotlib.figure.Figure at 0x1209f4c50>"
      ]
     },
     "metadata": {},
     "output_type": "display_data"
    },
    {
     "data": {
      "text/plain": [
       "<matplotlib.figure.Figure at 0x12b0faa90>"
      ]
     },
     "metadata": {},
     "output_type": "display_data"
    },
    {
     "data": {
      "text/plain": [
       "<matplotlib.figure.Figure at 0x11ee0e750>"
      ]
     },
     "metadata": {},
     "output_type": "display_data"
    },
    {
     "data": {
      "text/plain": [
       "<matplotlib.figure.Figure at 0x12a8b73d0>"
      ]
     },
     "metadata": {},
     "output_type": "display_data"
    },
    {
     "data": {
      "text/plain": [
       "<matplotlib.figure.Figure at 0x120b41c50>"
      ]
     },
     "metadata": {},
     "output_type": "display_data"
    },
    {
     "data": {
      "text/plain": [
       "<matplotlib.figure.Figure at 0x11ea27c10>"
      ]
     },
     "metadata": {},
     "output_type": "display_data"
    },
    {
     "data": {
      "text/plain": [
       "<matplotlib.figure.Figure at 0x11ed5dbd0>"
      ]
     },
     "metadata": {},
     "output_type": "display_data"
    },
    {
     "data": {
      "text/plain": [
       "<matplotlib.figure.Figure at 0x120e6f810>"
      ]
     },
     "metadata": {},
     "output_type": "display_data"
    },
    {
     "data": {
      "text/plain": [
       "<matplotlib.figure.Figure at 0x12bb5d910>"
      ]
     },
     "metadata": {},
     "output_type": "display_data"
    },
    {
     "data": {
      "text/plain": [
       "<matplotlib.figure.Figure at 0x11e95c190>"
      ]
     },
     "metadata": {},
     "output_type": "display_data"
    },
    {
     "data": {
      "text/plain": [
       "<matplotlib.figure.Figure at 0x11ea99f90>"
      ]
     },
     "metadata": {},
     "output_type": "display_data"
    },
    {
     "data": {
      "text/plain": [
       "<matplotlib.figure.Figure at 0x12b151950>"
      ]
     },
     "metadata": {},
     "output_type": "display_data"
    },
    {
     "data": {
      "text/plain": [
       "<matplotlib.figure.Figure at 0x120e3a5d0>"
      ]
     },
     "metadata": {},
     "output_type": "display_data"
    },
    {
     "data": {
      "text/plain": [
       "<matplotlib.figure.Figure at 0x1f7184090>"
      ]
     },
     "metadata": {},
     "output_type": "display_data"
    },
    {
     "data": {
      "text/plain": [
       "<matplotlib.figure.Figure at 0x1fdf91b90>"
      ]
     },
     "metadata": {},
     "output_type": "display_data"
    },
    {
     "data": {
      "text/plain": [
       "<matplotlib.figure.Figure at 0x1fc66f490>"
      ]
     },
     "metadata": {},
     "output_type": "display_data"
    },
    {
     "data": {
      "text/plain": [
       "<matplotlib.figure.Figure at 0x1ff678110>"
      ]
     },
     "metadata": {},
     "output_type": "display_data"
    },
    {
     "data": {
      "text/plain": [
       "<matplotlib.figure.Figure at 0x1fa407b10>"
      ]
     },
     "metadata": {},
     "output_type": "display_data"
    },
    {
     "data": {
      "text/plain": [
       "<matplotlib.figure.Figure at 0x1e98c94d0>"
      ]
     },
     "metadata": {},
     "output_type": "display_data"
    },
    {
     "data": {
      "text/plain": [
       "<matplotlib.figure.Figure at 0x12b100550>"
      ]
     },
     "metadata": {},
     "output_type": "display_data"
    },
    {
     "data": {
      "text/plain": [
       "<matplotlib.figure.Figure at 0x1ff3b2e10>"
      ]
     },
     "metadata": {},
     "output_type": "display_data"
    },
    {
     "data": {
      "text/plain": [
       "<matplotlib.figure.Figure at 0x1fd9fbed0>"
      ]
     },
     "metadata": {},
     "output_type": "display_data"
    },
    {
     "data": {
      "text/plain": [
       "<matplotlib.figure.Figure at 0x12b147a10>"
      ]
     },
     "metadata": {},
     "output_type": "display_data"
    },
    {
     "data": {
      "text/plain": [
       "<matplotlib.figure.Figure at 0x12b66d150>"
      ]
     },
     "metadata": {},
     "output_type": "display_data"
    },
    {
     "data": {
      "text/plain": [
       "<matplotlib.figure.Figure at 0x11e95cc90>"
      ]
     },
     "metadata": {},
     "output_type": "display_data"
    },
    {
     "data": {
      "text/plain": [
       "<matplotlib.figure.Figure at 0x1208b08d0>"
      ]
     },
     "metadata": {},
     "output_type": "display_data"
    },
    {
     "data": {
      "text/plain": [
       "<matplotlib.figure.Figure at 0x1fc659090>"
      ]
     },
     "metadata": {},
     "output_type": "display_data"
    },
    {
     "data": {
      "text/plain": [
       "<matplotlib.figure.Figure at 0x120de6350>"
      ]
     },
     "metadata": {},
     "output_type": "display_data"
    },
    {
     "data": {
      "text/plain": [
       "<matplotlib.figure.Figure at 0x1208b0d50>"
      ]
     },
     "metadata": {},
     "output_type": "display_data"
    },
    {
     "data": {
      "text/plain": [
       "<matplotlib.figure.Figure at 0x12bb87050>"
      ]
     },
     "metadata": {},
     "output_type": "display_data"
    },
    {
     "data": {
      "text/plain": [
       "<matplotlib.figure.Figure at 0x1616dff10>"
      ]
     },
     "metadata": {},
     "output_type": "display_data"
    },
    {
     "data": {
      "text/plain": [
       "<matplotlib.figure.Figure at 0x12549dcd0>"
      ]
     },
     "metadata": {},
     "output_type": "display_data"
    },
    {
     "data": {
      "text/plain": [
       "<matplotlib.figure.Figure at 0x1f71a5050>"
      ]
     },
     "metadata": {},
     "output_type": "display_data"
    },
    {
     "data": {
      "text/plain": [
       "<matplotlib.figure.Figure at 0x19bf816d0>"
      ]
     },
     "metadata": {},
     "output_type": "display_data"
    },
    {
     "data": {
      "text/plain": [
       "<matplotlib.figure.Figure at 0x132ac66d0>"
      ]
     },
     "metadata": {},
     "output_type": "display_data"
    },
    {
     "data": {
      "text/plain": [
       "<matplotlib.figure.Figure at 0x120898ad0>"
      ]
     },
     "metadata": {},
     "output_type": "display_data"
    },
    {
     "data": {
      "text/plain": [
       "<matplotlib.figure.Figure at 0x12089a2d0>"
      ]
     },
     "metadata": {},
     "output_type": "display_data"
    },
    {
     "data": {
      "text/plain": [
       "<matplotlib.figure.Figure at 0x11ee6c110>"
      ]
     },
     "metadata": {},
     "output_type": "display_data"
    },
    {
     "data": {
      "text/plain": [
       "<matplotlib.figure.Figure at 0x11eb570d0>"
      ]
     },
     "metadata": {},
     "output_type": "display_data"
    },
    {
     "data": {
      "text/plain": [
       "<matplotlib.figure.Figure at 0x120a5c3d0>"
      ]
     },
     "metadata": {},
     "output_type": "display_data"
    },
    {
     "data": {
      "text/plain": [
       "<matplotlib.figure.Figure at 0x132ac6790>"
      ]
     },
     "metadata": {},
     "output_type": "display_data"
    },
    {
     "data": {
      "text/plain": [
       "<matplotlib.figure.Figure at 0x201dd4790>"
      ]
     },
     "metadata": {},
     "output_type": "display_data"
    },
    {
     "data": {
      "text/plain": [
       "<matplotlib.figure.Figure at 0x196482fd0>"
      ]
     },
     "metadata": {},
     "output_type": "display_data"
    },
    {
     "data": {
      "text/plain": [
       "<matplotlib.figure.Figure at 0x1209e75d0>"
      ]
     },
     "metadata": {},
     "output_type": "display_data"
    },
    {
     "data": {
      "text/plain": [
       "<matplotlib.figure.Figure at 0x1fdf91e10>"
      ]
     },
     "metadata": {},
     "output_type": "display_data"
    },
    {
     "data": {
      "text/plain": [
       "<matplotlib.figure.Figure at 0x12abe70d0>"
      ]
     },
     "metadata": {},
     "output_type": "display_data"
    },
    {
     "data": {
      "text/plain": [
       "<matplotlib.figure.Figure at 0x11d1175d0>"
      ]
     },
     "metadata": {},
     "output_type": "display_data"
    },
    {
     "data": {
      "text/plain": [
       "<matplotlib.figure.Figure at 0x1cf2486d0>"
      ]
     },
     "metadata": {},
     "output_type": "display_data"
    },
    {
     "data": {
      "text/plain": [
       "<matplotlib.figure.Figure at 0x1fc659cd0>"
      ]
     },
     "metadata": {},
     "output_type": "display_data"
    },
    {
     "data": {
      "text/plain": [
       "<matplotlib.figure.Figure at 0x1fc68a390>"
      ]
     },
     "metadata": {},
     "output_type": "display_data"
    },
    {
     "data": {
      "text/plain": [
       "<matplotlib.figure.Figure at 0x194c01bd0>"
      ]
     },
     "metadata": {},
     "output_type": "display_data"
    },
    {
     "data": {
      "text/plain": [
       "<matplotlib.figure.Figure at 0x11eb45c50>"
      ]
     },
     "metadata": {},
     "output_type": "display_data"
    },
    {
     "data": {
      "text/plain": [
       "<matplotlib.figure.Figure at 0x11eea5950>"
      ]
     },
     "metadata": {},
     "output_type": "display_data"
    },
    {
     "data": {
      "text/plain": [
       "<matplotlib.figure.Figure at 0x1fdefb290>"
      ]
     },
     "metadata": {},
     "output_type": "display_data"
    },
    {
     "data": {
      "text/plain": [
       "<matplotlib.figure.Figure at 0x1fd9fbf50>"
      ]
     },
     "metadata": {},
     "output_type": "display_data"
    },
    {
     "data": {
      "text/plain": [
       "<matplotlib.figure.Figure at 0x12abbf090>"
      ]
     },
     "metadata": {},
     "output_type": "display_data"
    },
    {
     "data": {
      "text/plain": [
       "<matplotlib.figure.Figure at 0x12a81d650>"
      ]
     },
     "metadata": {},
     "output_type": "display_data"
    },
    {
     "data": {
      "text/plain": [
       "<matplotlib.figure.Figure at 0x12a8214d0>"
      ]
     },
     "metadata": {},
     "output_type": "display_data"
    },
    {
     "data": {
      "text/plain": [
       "<matplotlib.figure.Figure at 0x12bcc70d0>"
      ]
     },
     "metadata": {},
     "output_type": "display_data"
    },
    {
     "data": {
      "text/plain": [
       "<matplotlib.figure.Figure at 0x120e40c50>"
      ]
     },
     "metadata": {},
     "output_type": "display_data"
    },
    {
     "data": {
      "text/plain": [
       "<matplotlib.figure.Figure at 0x12087d190>"
      ]
     },
     "metadata": {},
     "output_type": "display_data"
    },
    {
     "data": {
      "text/plain": [
       "<matplotlib.figure.Figure at 0x120a02e50>"
      ]
     },
     "metadata": {},
     "output_type": "display_data"
    },
    {
     "data": {
      "text/plain": [
       "<matplotlib.figure.Figure at 0x12b672790>"
      ]
     },
     "metadata": {},
     "output_type": "display_data"
    },
    {
     "data": {
      "text/plain": [
       "<matplotlib.figure.Figure at 0x1208872d0>"
      ]
     },
     "metadata": {},
     "output_type": "display_data"
    },
    {
     "data": {
      "text/plain": [
       "<matplotlib.figure.Figure at 0x1f959d390>"
      ]
     },
     "metadata": {},
     "output_type": "display_data"
    },
    {
     "data": {
      "text/plain": [
       "<matplotlib.figure.Figure at 0x11c38e450>"
      ]
     },
     "metadata": {},
     "output_type": "display_data"
    },
    {
     "data": {
      "text/plain": [
       "<matplotlib.figure.Figure at 0x120fddd90>"
      ]
     },
     "metadata": {},
     "output_type": "display_data"
    },
    {
     "data": {
      "text/plain": [
       "<matplotlib.figure.Figure at 0x11ea62750>"
      ]
     },
     "metadata": {},
     "output_type": "display_data"
    },
    {
     "data": {
      "text/plain": [
       "<matplotlib.figure.Figure at 0x1f36add10>"
      ]
     },
     "metadata": {},
     "output_type": "display_data"
    },
    {
     "data": {
      "text/plain": [
       "<matplotlib.figure.Figure at 0x12c8f5610>"
      ]
     },
     "metadata": {},
     "output_type": "display_data"
    },
    {
     "data": {
      "text/plain": [
       "<matplotlib.figure.Figure at 0x11eea5310>"
      ]
     },
     "metadata": {},
     "output_type": "display_data"
    },
    {
     "data": {
      "text/plain": [
       "<matplotlib.figure.Figure at 0x1fdefb190>"
      ]
     },
     "metadata": {},
     "output_type": "display_data"
    },
    {
     "data": {
      "text/plain": [
       "<matplotlib.figure.Figure at 0x11edf6390>"
      ]
     },
     "metadata": {},
     "output_type": "display_data"
    },
    {
     "data": {
      "text/plain": [
       "<matplotlib.figure.Figure at 0x11e9c3990>"
      ]
     },
     "metadata": {},
     "output_type": "display_data"
    },
    {
     "data": {
      "text/plain": [
       "<matplotlib.figure.Figure at 0x11e5a9390>"
      ]
     },
     "metadata": {},
     "output_type": "display_data"
    },
    {
     "data": {
      "text/plain": [
       "<matplotlib.figure.Figure at 0x12549d990>"
      ]
     },
     "metadata": {},
     "output_type": "display_data"
    },
    {
     "data": {
      "text/plain": [
       "<matplotlib.figure.Figure at 0x11e95d350>"
      ]
     },
     "metadata": {},
     "output_type": "display_data"
    },
    {
     "data": {
      "text/plain": [
       "<matplotlib.figure.Figure at 0x11eb47410>"
      ]
     },
     "metadata": {},
     "output_type": "display_data"
    },
    {
     "data": {
      "text/plain": [
       "<matplotlib.figure.Figure at 0x11eb45650>"
      ]
     },
     "metadata": {},
     "output_type": "display_data"
    },
    {
     "data": {
      "text/plain": [
       "<matplotlib.figure.Figure at 0x194fc0f90>"
      ]
     },
     "metadata": {},
     "output_type": "display_data"
    },
    {
     "data": {
      "text/plain": [
       "<matplotlib.figure.Figure at 0x132ac6f90>"
      ]
     },
     "metadata": {},
     "output_type": "display_data"
    },
    {
     "data": {
      "text/plain": [
       "<matplotlib.figure.Figure at 0x1208b97d0>"
      ]
     },
     "metadata": {},
     "output_type": "display_data"
    },
    {
     "data": {
      "text/plain": [
       "<matplotlib.figure.Figure at 0x1fdfb76d0>"
      ]
     },
     "metadata": {},
     "output_type": "display_data"
    },
    {
     "data": {
      "text/plain": [
       "<matplotlib.figure.Figure at 0x12549df50>"
      ]
     },
     "metadata": {},
     "output_type": "display_data"
    },
    {
     "data": {
      "text/plain": [
       "<matplotlib.figure.Figure at 0x1fc68b6d0>"
      ]
     },
     "metadata": {},
     "output_type": "display_data"
    },
    {
     "data": {
      "text/plain": [
       "<matplotlib.figure.Figure at 0x11e9bf790>"
      ]
     },
     "metadata": {},
     "output_type": "display_data"
    },
    {
     "data": {
      "text/plain": [
       "<matplotlib.figure.Figure at 0x11efcfb10>"
      ]
     },
     "metadata": {},
     "output_type": "display_data"
    },
    {
     "data": {
      "text/plain": [
       "<matplotlib.figure.Figure at 0x11ed5d590>"
      ]
     },
     "metadata": {},
     "output_type": "display_data"
    },
    {
     "data": {
      "text/plain": [
       "<matplotlib.figure.Figure at 0x11ebfd050>"
      ]
     },
     "metadata": {},
     "output_type": "display_data"
    },
    {
     "data": {
      "text/plain": [
       "<matplotlib.figure.Figure at 0x11eb4a310>"
      ]
     },
     "metadata": {},
     "output_type": "display_data"
    },
    {
     "data": {
      "text/plain": [
       "<matplotlib.figure.Figure at 0x1fdab3d10>"
      ]
     },
     "metadata": {},
     "output_type": "display_data"
    },
    {
     "data": {
      "text/plain": [
       "<matplotlib.figure.Figure at 0x11ea5d250>"
      ]
     },
     "metadata": {},
     "output_type": "display_data"
    },
    {
     "data": {
      "text/plain": [
       "<matplotlib.figure.Figure at 0x11eb47890>"
      ]
     },
     "metadata": {},
     "output_type": "display_data"
    },
    {
     "data": {
      "text/plain": [
       "<matplotlib.figure.Figure at 0x12b672490>"
      ]
     },
     "metadata": {},
     "output_type": "display_data"
    },
    {
     "data": {
      "text/plain": [
       "<matplotlib.figure.Figure at 0x1fa407810>"
      ]
     },
     "metadata": {},
     "output_type": "display_data"
    },
    {
     "data": {
      "text/plain": [
       "<matplotlib.figure.Figure at 0x11ea994d0>"
      ]
     },
     "metadata": {},
     "output_type": "display_data"
    },
    {
     "data": {
      "text/plain": [
       "<matplotlib.figure.Figure at 0x12bb94210>"
      ]
     },
     "metadata": {},
     "output_type": "display_data"
    },
    {
     "data": {
      "text/plain": [
       "<matplotlib.figure.Figure at 0x12c8da590>"
      ]
     },
     "metadata": {},
     "output_type": "display_data"
    },
    {
     "data": {
      "text/plain": [
       "<matplotlib.figure.Figure at 0x12ba1af90>"
      ]
     },
     "metadata": {},
     "output_type": "display_data"
    },
    {
     "data": {
      "text/plain": [
       "<matplotlib.figure.Figure at 0x1f71a5c10>"
      ]
     },
     "metadata": {},
     "output_type": "display_data"
    },
    {
     "data": {
      "text/plain": [
       "<matplotlib.figure.Figure at 0x11efbc4d0>"
      ]
     },
     "metadata": {},
     "output_type": "display_data"
    },
    {
     "data": {
      "text/plain": [
       "<matplotlib.figure.Figure at 0x120820cd0>"
      ]
     },
     "metadata": {},
     "output_type": "display_data"
    },
    {
     "data": {
      "text/plain": [
       "<matplotlib.figure.Figure at 0x11eb45050>"
      ]
     },
     "metadata": {},
     "output_type": "display_data"
    },
    {
     "data": {
      "text/plain": [
       "<matplotlib.figure.Figure at 0x120e40550>"
      ]
     },
     "metadata": {},
     "output_type": "display_data"
    },
    {
     "data": {
      "text/plain": [
       "<matplotlib.figure.Figure at 0x11e5a9190>"
      ]
     },
     "metadata": {},
     "output_type": "display_data"
    },
    {
     "data": {
      "text/plain": [
       "<matplotlib.figure.Figure at 0x1254b61d0>"
      ]
     },
     "metadata": {},
     "output_type": "display_data"
    },
    {
     "data": {
      "text/plain": [
       "<matplotlib.figure.Figure at 0x120887490>"
      ]
     },
     "metadata": {},
     "output_type": "display_data"
    },
    {
     "data": {
      "text/plain": [
       "<matplotlib.figure.Figure at 0x201deb750>"
      ]
     },
     "metadata": {},
     "output_type": "display_data"
    },
    {
     "data": {
      "text/plain": [
       "<matplotlib.figure.Figure at 0x12b672b10>"
      ]
     },
     "metadata": {},
     "output_type": "display_data"
    },
    {
     "data": {
      "text/plain": [
       "<matplotlib.figure.Figure at 0x12bb4f490>"
      ]
     },
     "metadata": {},
     "output_type": "display_data"
    },
    {
     "data": {
      "text/plain": [
       "<matplotlib.figure.Figure at 0x120a806d0>"
      ]
     },
     "metadata": {},
     "output_type": "display_data"
    },
    {
     "data": {
      "text/plain": [
       "<matplotlib.figure.Figure at 0x1295a3bd0>"
      ]
     },
     "metadata": {},
     "output_type": "display_data"
    },
    {
     "data": {
      "text/plain": [
       "<matplotlib.figure.Figure at 0x1fdfb7c90>"
      ]
     },
     "metadata": {},
     "output_type": "display_data"
    },
    {
     "data": {
      "text/plain": [
       "<matplotlib.figure.Figure at 0x1254d1250>"
      ]
     },
     "metadata": {},
     "output_type": "display_data"
    },
    {
     "data": {
      "text/plain": [
       "<matplotlib.figure.Figure at 0x138454e50>"
      ]
     },
     "metadata": {},
     "output_type": "display_data"
    },
    {
     "data": {
      "text/plain": [
       "<matplotlib.figure.Figure at 0x19bb27050>"
      ]
     },
     "metadata": {},
     "output_type": "display_data"
    },
    {
     "data": {
      "text/plain": [
       "<matplotlib.figure.Figure at 0x12b9cffd0>"
      ]
     },
     "metadata": {},
     "output_type": "display_data"
    },
    {
     "data": {
      "text/plain": [
       "<matplotlib.figure.Figure at 0x12ad35810>"
      ]
     },
     "metadata": {},
     "output_type": "display_data"
    },
    {
     "data": {
      "text/plain": [
       "<matplotlib.figure.Figure at 0x1fdefb0d0>"
      ]
     },
     "metadata": {},
     "output_type": "display_data"
    },
    {
     "data": {
      "text/plain": [
       "<matplotlib.figure.Figure at 0x11e98e410>"
      ]
     },
     "metadata": {},
     "output_type": "display_data"
    },
    {
     "data": {
      "text/plain": [
       "<matplotlib.figure.Figure at 0x194c02050>"
      ]
     },
     "metadata": {},
     "output_type": "display_data"
    },
    {
     "data": {
      "text/plain": [
       "<matplotlib.figure.Figure at 0x120da6b10>"
      ]
     },
     "metadata": {},
     "output_type": "display_data"
    },
    {
     "data": {
      "text/plain": [
       "<matplotlib.figure.Figure at 0x11eea5c90>"
      ]
     },
     "metadata": {},
     "output_type": "display_data"
    },
    {
     "data": {
      "text/plain": [
       "<matplotlib.figure.Figure at 0x11ea77210>"
      ]
     },
     "metadata": {},
     "output_type": "display_data"
    },
    {
     "data": {
      "text/plain": [
       "<matplotlib.figure.Figure at 0x11eb4a710>"
      ]
     },
     "metadata": {},
     "output_type": "display_data"
    },
    {
     "data": {
      "text/plain": [
       "<matplotlib.figure.Figure at 0x11ebc7a50>"
      ]
     },
     "metadata": {},
     "output_type": "display_data"
    },
    {
     "data": {
      "text/plain": [
       "<matplotlib.figure.Figure at 0x120de6c50>"
      ]
     },
     "metadata": {},
     "output_type": "display_data"
    },
    {
     "data": {
      "text/plain": [
       "<matplotlib.figure.Figure at 0x194fc39d0>"
      ]
     },
     "metadata": {},
     "output_type": "display_data"
    },
    {
     "data": {
      "text/plain": [
       "<matplotlib.figure.Figure at 0x11eea5590>"
      ]
     },
     "metadata": {},
     "output_type": "display_data"
    },
    {
     "data": {
      "text/plain": [
       "<matplotlib.figure.Figure at 0x120a022d0>"
      ]
     },
     "metadata": {},
     "output_type": "display_data"
    },
    {
     "data": {
      "text/plain": [
       "<matplotlib.figure.Figure at 0x19604a750>"
      ]
     },
     "metadata": {},
     "output_type": "display_data"
    },
    {
     "data": {
      "text/plain": [
       "<matplotlib.figure.Figure at 0x120850050>"
      ]
     },
     "metadata": {},
     "output_type": "display_data"
    },
    {
     "data": {
      "text/plain": [
       "<matplotlib.figure.Figure at 0x1eedc2990>"
      ]
     },
     "metadata": {},
     "output_type": "display_data"
    },
    {
     "data": {
      "text/plain": [
       "<matplotlib.figure.Figure at 0x120828910>"
      ]
     },
     "metadata": {},
     "output_type": "display_data"
    },
    {
     "data": {
      "text/plain": [
       "<matplotlib.figure.Figure at 0x11ec7e550>"
      ]
     },
     "metadata": {},
     "output_type": "display_data"
    },
    {
     "data": {
      "text/plain": [
       "<matplotlib.figure.Figure at 0x125200650>"
      ]
     },
     "metadata": {},
     "output_type": "display_data"
    },
    {
     "data": {
      "text/plain": [
       "<matplotlib.figure.Figure at 0x1cf27ad10>"
      ]
     },
     "metadata": {},
     "output_type": "display_data"
    },
    {
     "data": {
      "text/plain": [
       "<matplotlib.figure.Figure at 0x1eeda8a50>"
      ]
     },
     "metadata": {},
     "output_type": "display_data"
    },
    {
     "data": {
      "text/plain": [
       "<matplotlib.figure.Figure at 0x1fdf9a690>"
      ]
     },
     "metadata": {},
     "output_type": "display_data"
    },
    {
     "data": {
      "text/plain": [
       "<matplotlib.figure.Figure at 0x12bb5ddd0>"
      ]
     },
     "metadata": {},
     "output_type": "display_data"
    },
    {
     "data": {
      "text/plain": [
       "<matplotlib.figure.Figure at 0x12abd5e50>"
      ]
     },
     "metadata": {},
     "output_type": "display_data"
    },
    {
     "data": {
      "text/plain": [
       "<matplotlib.figure.Figure at 0x1208b9e10>"
      ]
     },
     "metadata": {},
     "output_type": "display_data"
    },
    {
     "data": {
      "text/plain": [
       "<matplotlib.figure.Figure at 0x120887210>"
      ]
     },
     "metadata": {},
     "output_type": "display_data"
    },
    {
     "data": {
      "text/plain": [
       "<matplotlib.figure.Figure at 0x1cf2441d0>"
      ]
     },
     "metadata": {},
     "output_type": "display_data"
    },
    {
     "data": {
      "text/plain": [
       "<matplotlib.figure.Figure at 0x120a80fd0>"
      ]
     },
     "metadata": {},
     "output_type": "display_data"
    },
    {
     "data": {
      "text/plain": [
       "<matplotlib.figure.Figure at 0x12bb5dfd0>"
      ]
     },
     "metadata": {},
     "output_type": "display_data"
    },
    {
     "data": {
      "text/plain": [
       "<matplotlib.figure.Figure at 0x11ed52dd0>"
      ]
     },
     "metadata": {},
     "output_type": "display_data"
    },
    {
     "data": {
      "text/plain": [
       "<matplotlib.figure.Figure at 0x120e40e90>"
      ]
     },
     "metadata": {},
     "output_type": "display_data"
    },
    {
     "data": {
      "text/plain": [
       "<matplotlib.figure.Figure at 0x11eb645d0>"
      ]
     },
     "metadata": {},
     "output_type": "display_data"
    },
    {
     "data": {
      "text/plain": [
       "<matplotlib.figure.Figure at 0x1eedc2910>"
      ]
     },
     "metadata": {},
     "output_type": "display_data"
    },
    {
     "data": {
      "text/plain": [
       "<matplotlib.figure.Figure at 0x1254b0a90>"
      ]
     },
     "metadata": {},
     "output_type": "display_data"
    },
    {
     "data": {
      "text/plain": [
       "<matplotlib.figure.Figure at 0x11d2c77d0>"
      ]
     },
     "metadata": {},
     "output_type": "display_data"
    },
    {
     "data": {
      "text/plain": [
       "<matplotlib.figure.Figure at 0x19604aad0>"
      ]
     },
     "metadata": {},
     "output_type": "display_data"
    },
    {
     "data": {
      "text/plain": [
       "<matplotlib.figure.Figure at 0x121152450>"
      ]
     },
     "metadata": {},
     "output_type": "display_data"
    },
    {
     "data": {
      "text/plain": [
       "<matplotlib.figure.Figure at 0x1254b6390>"
      ]
     },
     "metadata": {},
     "output_type": "display_data"
    },
    {
     "data": {
      "text/plain": [
       "<matplotlib.figure.Figure at 0x1fd2c8410>"
      ]
     },
     "metadata": {},
     "output_type": "display_data"
    },
    {
     "data": {
      "text/plain": [
       "<matplotlib.figure.Figure at 0x12bcafd90>"
      ]
     },
     "metadata": {},
     "output_type": "display_data"
    },
    {
     "data": {
      "text/plain": [
       "<matplotlib.figure.Figure at 0x12b3aab90>"
      ]
     },
     "metadata": {},
     "output_type": "display_data"
    },
    {
     "data": {
      "text/plain": [
       "<matplotlib.figure.Figure at 0x1eadb7e50>"
      ]
     },
     "metadata": {},
     "output_type": "display_data"
    },
    {
     "data": {
      "text/plain": [
       "<matplotlib.figure.Figure at 0x120828b10>"
      ]
     },
     "metadata": {},
     "output_type": "display_data"
    },
    {
     "data": {
      "text/plain": [
       "<matplotlib.figure.Figure at 0x132ac6e50>"
      ]
     },
     "metadata": {},
     "output_type": "display_data"
    },
    {
     "data": {
      "text/plain": [
       "<matplotlib.figure.Figure at 0x12b66db10>"
      ]
     },
     "metadata": {},
     "output_type": "display_data"
    },
    {
     "data": {
      "text/plain": [
       "<matplotlib.figure.Figure at 0x12bcb4e10>"
      ]
     },
     "metadata": {},
     "output_type": "display_data"
    },
    {
     "data": {
      "text/plain": [
       "<matplotlib.figure.Figure at 0x11e95cd10>"
      ]
     },
     "metadata": {},
     "output_type": "display_data"
    },
    {
     "data": {
      "text/plain": [
       "<matplotlib.figure.Figure at 0x1fdfb7350>"
      ]
     },
     "metadata": {},
     "output_type": "display_data"
    },
    {
     "data": {
      "text/plain": [
       "<matplotlib.figure.Figure at 0x1fd9e6210>"
      ]
     },
     "metadata": {},
     "output_type": "display_data"
    },
    {
     "data": {
      "text/plain": [
       "<matplotlib.figure.Figure at 0x12bcb4750>"
      ]
     },
     "metadata": {},
     "output_type": "display_data"
    },
    {
     "data": {
      "text/plain": [
       "<matplotlib.figure.Figure at 0x1254b7f90>"
      ]
     },
     "metadata": {},
     "output_type": "display_data"
    },
    {
     "data": {
      "text/plain": [
       "<matplotlib.figure.Figure at 0x1964600d0>"
      ]
     },
     "metadata": {},
     "output_type": "display_data"
    },
    {
     "data": {
      "text/plain": [
       "<matplotlib.figure.Figure at 0x1254d1b50>"
      ]
     },
     "metadata": {},
     "output_type": "display_data"
    },
    {
     "data": {
      "text/plain": [
       "<matplotlib.figure.Figure at 0x201deb9d0>"
      ]
     },
     "metadata": {},
     "output_type": "display_data"
    },
    {
     "data": {
      "text/plain": [
       "<matplotlib.figure.Figure at 0x194fc3490>"
      ]
     },
     "metadata": {},
     "output_type": "display_data"
    },
    {
     "data": {
      "text/plain": [
       "<matplotlib.figure.Figure at 0x1fc0dc610>"
      ]
     },
     "metadata": {},
     "output_type": "display_data"
    },
    {
     "data": {
      "text/plain": [
       "<matplotlib.figure.Figure at 0x201dfe210>"
      ]
     },
     "metadata": {},
     "output_type": "display_data"
    },
    {
     "data": {
      "text/plain": [
       "<matplotlib.figure.Figure at 0x12ac11190>"
      ]
     },
     "metadata": {},
     "output_type": "display_data"
    },
    {
     "data": {
      "text/plain": [
       "<matplotlib.figure.Figure at 0x1ff3b2ed0>"
      ]
     },
     "metadata": {},
     "output_type": "display_data"
    },
    {
     "data": {
      "text/plain": [
       "<matplotlib.figure.Figure at 0x12b3aafd0>"
      ]
     },
     "metadata": {},
     "output_type": "display_data"
    },
    {
     "data": {
      "text/plain": [
       "<matplotlib.figure.Figure at 0x132ac63d0>"
      ]
     },
     "metadata": {},
     "output_type": "display_data"
    },
    {
     "data": {
      "text/plain": [
       "<matplotlib.figure.Figure at 0x12bb94150>"
      ]
     },
     "metadata": {},
     "output_type": "display_data"
    },
    {
     "data": {
      "text/plain": [
       "<matplotlib.figure.Figure at 0x1eadb7ed0>"
      ]
     },
     "metadata": {},
     "output_type": "display_data"
    },
    {
     "data": {
      "text/plain": [
       "<matplotlib.figure.Figure at 0x12b75b810>"
      ]
     },
     "metadata": {},
     "output_type": "display_data"
    },
    {
     "data": {
      "text/plain": [
       "<matplotlib.figure.Figure at 0x1cf267450>"
      ]
     },
     "metadata": {},
     "output_type": "display_data"
    },
    {
     "data": {
      "text/plain": [
       "<matplotlib.figure.Figure at 0x12ac11850>"
      ]
     },
     "metadata": {},
     "output_type": "display_data"
    },
    {
     "data": {
      "text/plain": [
       "<matplotlib.figure.Figure at 0x1fd9e6910>"
      ]
     },
     "metadata": {},
     "output_type": "display_data"
    },
    {
     "data": {
      "text/plain": [
       "<matplotlib.figure.Figure at 0x1cf244190>"
      ]
     },
     "metadata": {},
     "output_type": "display_data"
    },
    {
     "data": {
      "text/plain": [
       "<matplotlib.figure.Figure at 0x15eb52fd0>"
      ]
     },
     "metadata": {},
     "output_type": "display_data"
    },
    {
     "data": {
      "text/plain": [
       "<matplotlib.figure.Figure at 0x12b3aa050>"
      ]
     },
     "metadata": {},
     "output_type": "display_data"
    },
    {
     "data": {
      "text/plain": [
       "<matplotlib.figure.Figure at 0x12abe7750>"
      ]
     },
     "metadata": {},
     "output_type": "display_data"
    },
    {
     "data": {
      "text/plain": [
       "<matplotlib.figure.Figure at 0x120e875d0>"
      ]
     },
     "metadata": {},
     "output_type": "display_data"
    },
    {
     "data": {
      "text/plain": [
       "<matplotlib.figure.Figure at 0x19a1d8f10>"
      ]
     },
     "metadata": {},
     "output_type": "display_data"
    },
    {
     "data": {
      "text/plain": [
       "<matplotlib.figure.Figure at 0x1f269bdd0>"
      ]
     },
     "metadata": {},
     "output_type": "display_data"
    },
    {
     "data": {
      "text/plain": [
       "<matplotlib.figure.Figure at 0x11e5a9150>"
      ]
     },
     "metadata": {},
     "output_type": "display_data"
    },
    {
     "data": {
      "text/plain": [
       "<matplotlib.figure.Figure at 0x120dba110>"
      ]
     },
     "metadata": {},
     "output_type": "display_data"
    },
    {
     "data": {
      "text/plain": [
       "<matplotlib.figure.Figure at 0x12bcaf610>"
      ]
     },
     "metadata": {},
     "output_type": "display_data"
    },
    {
     "data": {
      "text/plain": [
       "<matplotlib.figure.Figure at 0x15eb52d10>"
      ]
     },
     "metadata": {},
     "output_type": "display_data"
    },
    {
     "data": {
      "text/plain": [
       "<matplotlib.figure.Figure at 0x19bb27450>"
      ]
     },
     "metadata": {},
     "output_type": "display_data"
    },
    {
     "data": {
      "text/plain": [
       "<matplotlib.figure.Figure at 0x11ea579d0>"
      ]
     },
     "metadata": {},
     "output_type": "display_data"
    },
    {
     "data": {
      "text/plain": [
       "<matplotlib.figure.Figure at 0x11ebc7d50>"
      ]
     },
     "metadata": {},
     "output_type": "display_data"
    },
    {
     "data": {
      "text/plain": [
       "<matplotlib.figure.Figure at 0x1fb422f90>"
      ]
     },
     "metadata": {},
     "output_type": "display_data"
    },
    {
     "data": {
      "text/plain": [
       "<matplotlib.figure.Figure at 0x11ea62590>"
      ]
     },
     "metadata": {},
     "output_type": "display_data"
    },
    {
     "data": {
      "text/plain": [
       "<matplotlib.figure.Figure at 0x11ef71a10>"
      ]
     },
     "metadata": {},
     "output_type": "display_data"
    },
    {
     "data": {
      "text/plain": [
       "<matplotlib.figure.Figure at 0x201deb8d0>"
      ]
     },
     "metadata": {},
     "output_type": "display_data"
    },
    {
     "data": {
      "text/plain": [
       "<matplotlib.figure.Figure at 0x1f36ad5d0>"
      ]
     },
     "metadata": {},
     "output_type": "display_data"
    },
    {
     "data": {
      "text/plain": [
       "<matplotlib.figure.Figure at 0x194c02350>"
      ]
     },
     "metadata": {},
     "output_type": "display_data"
    },
    {
     "data": {
      "text/plain": [
       "<matplotlib.figure.Figure at 0x11ed52b10>"
      ]
     },
     "metadata": {},
     "output_type": "display_data"
    },
    {
     "data": {
      "text/plain": [
       "<matplotlib.figure.Figure at 0x11e9a47d0>"
      ]
     },
     "metadata": {},
     "output_type": "display_data"
    },
    {
     "data": {
      "text/plain": [
       "<matplotlib.figure.Figure at 0x132ab6590>"
      ]
     },
     "metadata": {},
     "output_type": "display_data"
    },
    {
     "data": {
      "text/plain": [
       "<matplotlib.figure.Figure at 0x1ead864d0>"
      ]
     },
     "metadata": {},
     "output_type": "display_data"
    },
    {
     "data": {
      "text/plain": [
       "<matplotlib.figure.Figure at 0x120820210>"
      ]
     },
     "metadata": {},
     "output_type": "display_data"
    },
    {
     "data": {
      "text/plain": [
       "<matplotlib.figure.Figure at 0x125646d90>"
      ]
     },
     "metadata": {},
     "output_type": "display_data"
    },
    {
     "data": {
      "text/plain": [
       "<matplotlib.figure.Figure at 0x12cbb0190>"
      ]
     },
     "metadata": {},
     "output_type": "display_data"
    },
    {
     "data": {
      "text/plain": [
       "<matplotlib.figure.Figure at 0x1fdaa3fd0>"
      ]
     },
     "metadata": {},
     "output_type": "display_data"
    },
    {
     "data": {
      "text/plain": [
       "<matplotlib.figure.Figure at 0x1fb428590>"
      ]
     },
     "metadata": {},
     "output_type": "display_data"
    },
    {
     "data": {
      "text/plain": [
       "<matplotlib.figure.Figure at 0x15eb78150>"
      ]
     },
     "metadata": {},
     "output_type": "display_data"
    },
    {
     "data": {
      "text/plain": [
       "<matplotlib.figure.Figure at 0x1ff90c9d0>"
      ]
     },
     "metadata": {},
     "output_type": "display_data"
    },
    {
     "data": {
      "text/plain": [
       "<matplotlib.figure.Figure at 0x1fe50a610>"
      ]
     },
     "metadata": {},
     "output_type": "display_data"
    },
    {
     "data": {
      "text/plain": [
       "<matplotlib.figure.Figure at 0x11eb64a90>"
      ]
     },
     "metadata": {},
     "output_type": "display_data"
    },
    {
     "data": {
      "text/plain": [
       "<matplotlib.figure.Figure at 0x1fdaa3290>"
      ]
     },
     "metadata": {},
     "output_type": "display_data"
    },
    {
     "data": {
      "text/plain": [
       "<matplotlib.figure.Figure at 0x1fe539750>"
      ]
     },
     "metadata": {},
     "output_type": "display_data"
    },
    {
     "data": {
      "text/plain": [
       "<matplotlib.figure.Figure at 0x1ff90c690>"
      ]
     },
     "metadata": {},
     "output_type": "display_data"
    },
    {
     "data": {
      "text/plain": [
       "<matplotlib.figure.Figure at 0x1cf244110>"
      ]
     },
     "metadata": {},
     "output_type": "display_data"
    },
    {
     "data": {
      "text/plain": [
       "<matplotlib.figure.Figure at 0x1f36cda90>"
      ]
     },
     "metadata": {},
     "output_type": "display_data"
    },
    {
     "data": {
      "text/plain": [
       "<matplotlib.figure.Figure at 0x1209befd0>"
      ]
     },
     "metadata": {},
     "output_type": "display_data"
    },
    {
     "data": {
      "text/plain": [
       "<matplotlib.figure.Figure at 0x1fc66fd50>"
      ]
     },
     "metadata": {},
     "output_type": "display_data"
    },
    {
     "data": {
      "text/plain": [
       "<matplotlib.figure.Figure at 0x201deb150>"
      ]
     },
     "metadata": {},
     "output_type": "display_data"
    },
    {
     "data": {
      "text/plain": [
       "<matplotlib.figure.Figure at 0x1fb422b90>"
      ]
     },
     "metadata": {},
     "output_type": "display_data"
    },
    {
     "data": {
      "text/plain": [
       "<matplotlib.figure.Figure at 0x1220085d0>"
      ]
     },
     "metadata": {},
     "output_type": "display_data"
    },
    {
     "data": {
      "text/plain": [
       "<matplotlib.figure.Figure at 0x1cd2d8450>"
      ]
     },
     "metadata": {},
     "output_type": "display_data"
    },
    {
     "data": {
      "text/plain": [
       "<matplotlib.figure.Figure at 0x1cd307cd0>"
      ]
     },
     "metadata": {},
     "output_type": "display_data"
    },
    {
     "data": {
      "text/plain": [
       "<matplotlib.figure.Figure at 0x1eedc28d0>"
      ]
     },
     "metadata": {},
     "output_type": "display_data"
    },
    {
     "data": {
      "text/plain": [
       "<matplotlib.figure.Figure at 0x19a1e8450>"
      ]
     },
     "metadata": {},
     "output_type": "display_data"
    },
    {
     "data": {
      "text/plain": [
       "<matplotlib.figure.Figure at 0x1edbaa090>"
      ]
     },
     "metadata": {},
     "output_type": "display_data"
    },
    {
     "data": {
      "text/plain": [
       "<matplotlib.figure.Figure at 0x12b0fa890>"
      ]
     },
     "metadata": {},
     "output_type": "display_data"
    },
    {
     "data": {
      "text/plain": [
       "<matplotlib.figure.Figure at 0x1f7184210>"
      ]
     },
     "metadata": {},
     "output_type": "display_data"
    },
    {
     "data": {
      "text/plain": [
       "<matplotlib.figure.Figure at 0x12cbb01d0>"
      ]
     },
     "metadata": {},
     "output_type": "display_data"
    },
    {
     "data": {
      "text/plain": [
       "<matplotlib.figure.Figure at 0x194fed690>"
      ]
     },
     "metadata": {},
     "output_type": "display_data"
    },
    {
     "data": {
      "text/plain": [
       "<matplotlib.figure.Figure at 0x15eb52f10>"
      ]
     },
     "metadata": {},
     "output_type": "display_data"
    },
    {
     "data": {
      "text/plain": [
       "<matplotlib.figure.Figure at 0x1fe4c9910>"
      ]
     },
     "metadata": {},
     "output_type": "display_data"
    },
    {
     "data": {
      "text/plain": [
       "<matplotlib.figure.Figure at 0x12087dd90>"
      ]
     },
     "metadata": {},
     "output_type": "display_data"
    },
    {
     "data": {
      "text/plain": [
       "<matplotlib.figure.Figure at 0x1fa407690>"
      ]
     },
     "metadata": {},
     "output_type": "display_data"
    },
    {
     "data": {
      "text/plain": [
       "<matplotlib.figure.Figure at 0x12b3970d0>"
      ]
     },
     "metadata": {},
     "output_type": "display_data"
    },
    {
     "data": {
      "text/plain": [
       "<matplotlib.figure.Figure at 0x120e36cd0>"
      ]
     },
     "metadata": {},
     "output_type": "display_data"
    },
    {
     "data": {
      "text/plain": [
       "<matplotlib.figure.Figure at 0x1ff64e7d0>"
      ]
     },
     "metadata": {},
     "output_type": "display_data"
    },
    {
     "data": {
      "text/plain": [
       "<matplotlib.figure.Figure at 0x1fe50aa90>"
      ]
     },
     "metadata": {},
     "output_type": "display_data"
    },
    {
     "data": {
      "text/plain": [
       "<matplotlib.figure.Figure at 0x1ff1b6610>"
      ]
     },
     "metadata": {},
     "output_type": "display_data"
    },
    {
     "data": {
      "text/plain": [
       "<matplotlib.figure.Figure at 0x11ebfdb90>"
      ]
     },
     "metadata": {},
     "output_type": "display_data"
    },
    {
     "data": {
      "text/plain": [
       "<matplotlib.figure.Figure at 0x1fb4289d0>"
      ]
     },
     "metadata": {},
     "output_type": "display_data"
    },
    {
     "data": {
      "text/plain": [
       "<matplotlib.figure.Figure at 0x138454a50>"
      ]
     },
     "metadata": {},
     "output_type": "display_data"
    },
    {
     "data": {
      "text/plain": [
       "<matplotlib.figure.Figure at 0x1fe4c9d50>"
      ]
     },
     "metadata": {},
     "output_type": "display_data"
    },
    {
     "data": {
      "text/plain": [
       "<matplotlib.figure.Figure at 0x1e98f8850>"
      ]
     },
     "metadata": {},
     "output_type": "display_data"
    },
    {
     "data": {
      "text/plain": [
       "<matplotlib.figure.Figure at 0x120898ed0>"
      ]
     },
     "metadata": {},
     "output_type": "display_data"
    },
    {
     "data": {
      "text/plain": [
       "<matplotlib.figure.Figure at 0x125634050>"
      ]
     },
     "metadata": {},
     "output_type": "display_data"
    },
    {
     "data": {
      "text/plain": [
       "<matplotlib.figure.Figure at 0x12bacce10>"
      ]
     },
     "metadata": {},
     "output_type": "display_data"
    },
    {
     "data": {
      "text/plain": [
       "<matplotlib.figure.Figure at 0x1fdf9ac50>"
      ]
     },
     "metadata": {},
     "output_type": "display_data"
    },
    {
     "data": {
      "text/plain": [
       "<matplotlib.figure.Figure at 0x12b9cf850>"
      ]
     },
     "metadata": {},
     "output_type": "display_data"
    },
    {
     "data": {
      "text/plain": [
       "<matplotlib.figure.Figure at 0x196460210>"
      ]
     },
     "metadata": {},
     "output_type": "display_data"
    },
    {
     "data": {
      "text/plain": [
       "<matplotlib.figure.Figure at 0x12082c7d0>"
      ]
     },
     "metadata": {},
     "output_type": "display_data"
    },
    {
     "data": {
      "text/plain": [
       "<matplotlib.figure.Figure at 0x1eea51d10>"
      ]
     },
     "metadata": {},
     "output_type": "display_data"
    },
    {
     "data": {
      "text/plain": [
       "<matplotlib.figure.Figure at 0x132abb450>"
      ]
     },
     "metadata": {},
     "output_type": "display_data"
    },
    {
     "data": {
      "text/plain": [
       "<matplotlib.figure.Figure at 0x1fe4c58d0>"
      ]
     },
     "metadata": {},
     "output_type": "display_data"
    },
    {
     "data": {
      "text/plain": [
       "<matplotlib.figure.Figure at 0x1fe4c9a10>"
      ]
     },
     "metadata": {},
     "output_type": "display_data"
    },
    {
     "data": {
      "text/plain": [
       "<matplotlib.figure.Figure at 0x12b763310>"
      ]
     },
     "metadata": {},
     "output_type": "display_data"
    },
    {
     "data": {
      "text/plain": [
       "<matplotlib.figure.Figure at 0x12bae0210>"
      ]
     },
     "metadata": {},
     "output_type": "display_data"
    },
    {
     "data": {
      "text/plain": [
       "<matplotlib.figure.Figure at 0x1252224d0>"
      ]
     },
     "metadata": {},
     "output_type": "display_data"
    },
    {
     "data": {
      "text/plain": [
       "<matplotlib.figure.Figure at 0x12cbb0290>"
      ]
     },
     "metadata": {},
     "output_type": "display_data"
    },
    {
     "data": {
      "text/plain": [
       "<matplotlib.figure.Figure at 0x120f71ed0>"
      ]
     },
     "metadata": {},
     "output_type": "display_data"
    },
    {
     "data": {
      "text/plain": [
       "<matplotlib.figure.Figure at 0x194ffe5d0>"
      ]
     },
     "metadata": {},
     "output_type": "display_data"
    },
    {
     "data": {
      "text/plain": [
       "<matplotlib.figure.Figure at 0x12b151f90>"
      ]
     },
     "metadata": {},
     "output_type": "display_data"
    },
    {
     "data": {
      "text/plain": [
       "<matplotlib.figure.Figure at 0x11ef7afd0>"
      ]
     },
     "metadata": {},
     "output_type": "display_data"
    },
    {
     "data": {
      "text/plain": [
       "<matplotlib.figure.Figure at 0x125557610>"
      ]
     },
     "metadata": {},
     "output_type": "display_data"
    },
    {
     "data": {
      "text/plain": [
       "<matplotlib.figure.Figure at 0x12bcafa50>"
      ]
     },
     "metadata": {},
     "output_type": "display_data"
    },
    {
     "data": {
      "text/plain": [
       "<matplotlib.figure.Figure at 0x15eb54950>"
      ]
     },
     "metadata": {},
     "output_type": "display_data"
    },
    {
     "data": {
      "text/plain": [
       "<matplotlib.figure.Figure at 0x122593cd0>"
      ]
     },
     "metadata": {},
     "output_type": "display_data"
    },
    {
     "data": {
      "text/plain": [
       "<matplotlib.figure.Figure at 0x1ff1b7390>"
      ]
     },
     "metadata": {},
     "output_type": "display_data"
    },
    {
     "data": {
      "text/plain": [
       "<matplotlib.figure.Figure at 0x1fb428750>"
      ]
     },
     "metadata": {},
     "output_type": "display_data"
    },
    {
     "data": {
      "text/plain": [
       "<matplotlib.figure.Figure at 0x125557450>"
      ]
     },
     "metadata": {},
     "output_type": "display_data"
    },
    {
     "data": {
      "text/plain": [
       "<matplotlib.figure.Figure at 0x12201f4d0>"
      ]
     },
     "metadata": {},
     "output_type": "display_data"
    },
    {
     "data": {
      "text/plain": [
       "<matplotlib.figure.Figure at 0x122008d90>"
      ]
     },
     "metadata": {},
     "output_type": "display_data"
    },
    {
     "data": {
      "text/plain": [
       "<matplotlib.figure.Figure at 0x19a1d9110>"
      ]
     },
     "metadata": {},
     "output_type": "display_data"
    },
    {
     "data": {
      "text/plain": [
       "<matplotlib.figure.Figure at 0x12b9ee590>"
      ]
     },
     "metadata": {},
     "output_type": "display_data"
    },
    {
     "data": {
      "text/plain": [
       "<matplotlib.figure.Figure at 0x12ba1a110>"
      ]
     },
     "metadata": {},
     "output_type": "display_data"
    },
    {
     "data": {
      "text/plain": [
       "<matplotlib.figure.Figure at 0x125252cd0>"
      ]
     },
     "metadata": {},
     "output_type": "display_data"
    },
    {
     "data": {
      "text/plain": [
       "<matplotlib.figure.Figure at 0x12b0f5190>"
      ]
     },
     "metadata": {},
     "output_type": "display_data"
    },
    {
     "data": {
      "text/plain": [
       "<matplotlib.figure.Figure at 0x1216c5390>"
      ]
     },
     "metadata": {},
     "output_type": "display_data"
    },
    {
     "data": {
      "text/plain": [
       "<matplotlib.figure.Figure at 0x132abbc90>"
      ]
     },
     "metadata": {},
     "output_type": "display_data"
    },
    {
     "data": {
      "text/plain": [
       "<matplotlib.figure.Figure at 0x1225957d0>"
      ]
     },
     "metadata": {},
     "output_type": "display_data"
    },
    {
     "data": {
      "text/plain": [
       "<matplotlib.figure.Figure at 0x1fdaa3b90>"
      ]
     },
     "metadata": {},
     "output_type": "display_data"
    },
    {
     "data": {
      "text/plain": [
       "<matplotlib.figure.Figure at 0x12b763850>"
      ]
     },
     "metadata": {},
     "output_type": "display_data"
    },
    {
     "data": {
      "text/plain": [
       "<matplotlib.figure.Figure at 0x1fe4c5a10>"
      ]
     },
     "metadata": {},
     "output_type": "display_data"
    },
    {
     "data": {
      "text/plain": [
       "<matplotlib.figure.Figure at 0x1fc3175d0>"
      ]
     },
     "metadata": {},
     "output_type": "display_data"
    },
    {
     "data": {
      "text/plain": [
       "<matplotlib.figure.Figure at 0x1fc0c40d0>"
      ]
     },
     "metadata": {},
     "output_type": "display_data"
    },
    {
     "data": {
      "text/plain": [
       "<matplotlib.figure.Figure at 0x1216c52d0>"
      ]
     },
     "metadata": {},
     "output_type": "display_data"
    },
    {
     "data": {
      "text/plain": [
       "<matplotlib.figure.Figure at 0x1254b7410>"
      ]
     },
     "metadata": {},
     "output_type": "display_data"
    },
    {
     "data": {
      "text/plain": [
       "<matplotlib.figure.Figure at 0x1cdcff890>"
      ]
     },
     "metadata": {},
     "output_type": "display_data"
    },
    {
     "data": {
      "text/plain": [
       "<matplotlib.figure.Figure at 0x122583a10>"
      ]
     },
     "metadata": {},
     "output_type": "display_data"
    },
    {
     "data": {
      "text/plain": [
       "<matplotlib.figure.Figure at 0x1ff184f90>"
      ]
     },
     "metadata": {},
     "output_type": "display_data"
    },
    {
     "data": {
      "text/plain": [
       "<matplotlib.figure.Figure at 0x1fd9ef790>"
      ]
     },
     "metadata": {},
     "output_type": "display_data"
    },
    {
     "data": {
      "text/plain": [
       "<matplotlib.figure.Figure at 0x1216c0b90>"
      ]
     },
     "metadata": {},
     "output_type": "display_data"
    },
    {
     "data": {
      "text/plain": [
       "<matplotlib.figure.Figure at 0x1fdefd450>"
      ]
     },
     "metadata": {},
     "output_type": "display_data"
    },
    {
     "data": {
      "text/plain": [
       "<matplotlib.figure.Figure at 0x1212114d0>"
      ]
     },
     "metadata": {},
     "output_type": "display_data"
    },
    {
     "data": {
      "text/plain": [
       "<matplotlib.figure.Figure at 0x11ec3e150>"
      ]
     },
     "metadata": {},
     "output_type": "display_data"
    },
    {
     "data": {
      "text/plain": [
       "<matplotlib.figure.Figure at 0x125557250>"
      ]
     },
     "metadata": {},
     "output_type": "display_data"
    },
    {
     "data": {
      "text/plain": [
       "<matplotlib.figure.Figure at 0x12baccd90>"
      ]
     },
     "metadata": {},
     "output_type": "display_data"
    },
    {
     "data": {
      "text/plain": [
       "<matplotlib.figure.Figure at 0x1fe453a90>"
      ]
     },
     "metadata": {},
     "output_type": "display_data"
    },
    {
     "data": {
      "text/plain": [
       "<matplotlib.figure.Figure at 0x125231fd0>"
      ]
     },
     "metadata": {},
     "output_type": "display_data"
    },
    {
     "data": {
      "text/plain": [
       "<matplotlib.figure.Figure at 0x133dd7390>"
      ]
     },
     "metadata": {},
     "output_type": "display_data"
    },
    {
     "data": {
      "text/plain": [
       "<matplotlib.figure.Figure at 0x1fe46c0d0>"
      ]
     },
     "metadata": {},
     "output_type": "display_data"
    },
    {
     "data": {
      "text/plain": [
       "<matplotlib.figure.Figure at 0x1ff184c90>"
      ]
     },
     "metadata": {},
     "output_type": "display_data"
    },
    {
     "data": {
      "text/plain": [
       "<matplotlib.figure.Figure at 0x1f36cd690>"
      ]
     },
     "metadata": {},
     "output_type": "display_data"
    },
    {
     "data": {
      "text/plain": [
       "<matplotlib.figure.Figure at 0x12bae0f90>"
      ]
     },
     "metadata": {},
     "output_type": "display_data"
    },
    {
     "data": {
      "text/plain": [
       "<matplotlib.figure.Figure at 0x1ff184390>"
      ]
     },
     "metadata": {},
     "output_type": "display_data"
    },
    {
     "data": {
      "text/plain": [
       "<matplotlib.figure.Figure at 0x1fc317490>"
      ]
     },
     "metadata": {},
     "output_type": "display_data"
    },
    {
     "data": {
      "text/plain": [
       "<matplotlib.figure.Figure at 0x1ff1840d0>"
      ]
     },
     "metadata": {},
     "output_type": "display_data"
    },
    {
     "data": {
      "text/plain": [
       "<matplotlib.figure.Figure at 0x194fc3250>"
      ]
     },
     "metadata": {},
     "output_type": "display_data"
    },
    {
     "data": {
      "text/plain": [
       "<matplotlib.figure.Figure at 0x125557e10>"
      ]
     },
     "metadata": {},
     "output_type": "display_data"
    },
    {
     "data": {
      "text/plain": [
       "<matplotlib.figure.Figure at 0x1fa42e0d0>"
      ]
     },
     "metadata": {},
     "output_type": "display_data"
    },
    {
     "data": {
      "text/plain": [
       "<matplotlib.figure.Figure at 0x1fe4c5250>"
      ]
     },
     "metadata": {},
     "output_type": "display_data"
    },
    {
     "data": {
      "text/plain": [
       "<matplotlib.figure.Figure at 0x1fd151910>"
      ]
     },
     "metadata": {},
     "output_type": "display_data"
    },
    {
     "data": {
      "text/plain": [
       "<matplotlib.figure.Figure at 0x1cdcff750>"
      ]
     },
     "metadata": {},
     "output_type": "display_data"
    },
    {
     "data": {
      "text/plain": [
       "<matplotlib.figure.Figure at 0x122008290>"
      ]
     },
     "metadata": {},
     "output_type": "display_data"
    },
    {
     "data": {
      "text/plain": [
       "<matplotlib.figure.Figure at 0x120f71f50>"
      ]
     },
     "metadata": {},
     "output_type": "display_data"
    },
    {
     "data": {
      "text/plain": [
       "<matplotlib.figure.Figure at 0x19a1d8950>"
      ]
     },
     "metadata": {},
     "output_type": "display_data"
    },
    {
     "data": {
      "text/plain": [
       "<matplotlib.figure.Figure at 0x1ccb15890>"
      ]
     },
     "metadata": {},
     "output_type": "display_data"
    },
    {
     "data": {
      "text/plain": [
       "<matplotlib.figure.Figure at 0x1ff395c10>"
      ]
     },
     "metadata": {},
     "output_type": "display_data"
    },
    {
     "data": {
      "text/plain": [
       "<matplotlib.figure.Figure at 0x1ccb1ae90>"
      ]
     },
     "metadata": {},
     "output_type": "display_data"
    },
    {
     "data": {
      "text/plain": [
       "<matplotlib.figure.Figure at 0x1eeda8590>"
      ]
     },
     "metadata": {},
     "output_type": "display_data"
    },
    {
     "data": {
      "text/plain": [
       "<matplotlib.figure.Figure at 0x1216c55d0>"
      ]
     },
     "metadata": {},
     "output_type": "display_data"
    },
    {
     "data": {
      "text/plain": [
       "<matplotlib.figure.Figure at 0x1208283d0>"
      ]
     },
     "metadata": {},
     "output_type": "display_data"
    },
    {
     "data": {
      "text/plain": [
       "<matplotlib.figure.Figure at 0x1fd976410>"
      ]
     },
     "metadata": {},
     "output_type": "display_data"
    },
    {
     "data": {
      "text/plain": [
       "<matplotlib.figure.Figure at 0x1216c5450>"
      ]
     },
     "metadata": {},
     "output_type": "display_data"
    },
    {
     "data": {
      "text/plain": [
       "<matplotlib.figure.Figure at 0x12bcaf1d0>"
      ]
     },
     "metadata": {},
     "output_type": "display_data"
    },
    {
     "data": {
      "text/plain": [
       "<matplotlib.figure.Figure at 0x1fd976d10>"
      ]
     },
     "metadata": {},
     "output_type": "display_data"
    },
    {
     "data": {
      "text/plain": [
       "<matplotlib.figure.Figure at 0x1ff390c90>"
      ]
     },
     "metadata": {},
     "output_type": "display_data"
    },
    {
     "data": {
      "text/plain": [
       "<matplotlib.figure.Figure at 0x1cf267090>"
      ]
     },
     "metadata": {},
     "output_type": "display_data"
    },
    {
     "data": {
      "text/plain": [
       "<matplotlib.figure.Figure at 0x12baf1e90>"
      ]
     },
     "metadata": {},
     "output_type": "display_data"
    },
    {
     "data": {
      "text/plain": [
       "<matplotlib.figure.Figure at 0x1ff1b6210>"
      ]
     },
     "metadata": {},
     "output_type": "display_data"
    },
    {
     "data": {
      "text/plain": [
       "<matplotlib.figure.Figure at 0x1fa411e10>"
      ]
     },
     "metadata": {},
     "output_type": "display_data"
    },
    {
     "data": {
      "text/plain": [
       "<matplotlib.figure.Figure at 0x12b763d90>"
      ]
     },
     "metadata": {},
     "output_type": "display_data"
    },
    {
     "data": {
      "text/plain": [
       "<matplotlib.figure.Figure at 0x12bcb4990>"
      ]
     },
     "metadata": {},
     "output_type": "display_data"
    },
    {
     "data": {
      "text/plain": [
       "<matplotlib.figure.Figure at 0x12b772b10>"
      ]
     },
     "metadata": {},
     "output_type": "display_data"
    },
    {
     "data": {
      "text/plain": [
       "<matplotlib.figure.Figure at 0x12083db50>"
      ]
     },
     "metadata": {},
     "output_type": "display_data"
    },
    {
     "data": {
      "text/plain": [
       "<matplotlib.figure.Figure at 0x1cd2d8f90>"
      ]
     },
     "metadata": {},
     "output_type": "display_data"
    },
    {
     "data": {
      "text/plain": [
       "<matplotlib.figure.Figure at 0x120f74610>"
      ]
     },
     "metadata": {},
     "output_type": "display_data"
    },
    {
     "data": {
      "text/plain": [
       "<matplotlib.figure.Figure at 0x120f71150>"
      ]
     },
     "metadata": {},
     "output_type": "display_data"
    },
    {
     "data": {
      "text/plain": [
       "<matplotlib.figure.Figure at 0x11ec706d0>"
      ]
     },
     "metadata": {},
     "output_type": "display_data"
    },
    {
     "data": {
      "text/plain": [
       "<matplotlib.figure.Figure at 0x122583a90>"
      ]
     },
     "metadata": {},
     "output_type": "display_data"
    },
    {
     "data": {
      "text/plain": [
       "<matplotlib.figure.Figure at 0x120820950>"
      ]
     },
     "metadata": {},
     "output_type": "display_data"
    },
    {
     "data": {
      "text/plain": [
       "<matplotlib.figure.Figure at 0x1216f5e50>"
      ]
     },
     "metadata": {},
     "output_type": "display_data"
    },
    {
     "data": {
      "text/plain": [
       "<matplotlib.figure.Figure at 0x1fe523f10>"
      ]
     },
     "metadata": {},
     "output_type": "display_data"
    },
    {
     "data": {
      "text/plain": [
       "<matplotlib.figure.Figure at 0x122593a90>"
      ]
     },
     "metadata": {},
     "output_type": "display_data"
    },
    {
     "data": {
      "text/plain": [
       "<matplotlib.figure.Figure at 0x1fd280910>"
      ]
     },
     "metadata": {},
     "output_type": "display_data"
    },
    {
     "data": {
      "text/plain": [
       "<matplotlib.figure.Figure at 0x1e9cdbe10>"
      ]
     },
     "metadata": {},
     "output_type": "display_data"
    },
    {
     "data": {
      "text/plain": [
       "<matplotlib.figure.Figure at 0x1e9cfe6d0>"
      ]
     },
     "metadata": {},
     "output_type": "display_data"
    },
    {
     "data": {
      "text/plain": [
       "<matplotlib.figure.Figure at 0x1ff1b6390>"
      ]
     },
     "metadata": {},
     "output_type": "display_data"
    },
    {
     "data": {
      "text/plain": [
       "<matplotlib.figure.Figure at 0x1225952d0>"
      ]
     },
     "metadata": {},
     "output_type": "display_data"
    },
    {
     "data": {
      "text/plain": [
       "<matplotlib.figure.Figure at 0x1cf2677d0>"
      ]
     },
     "metadata": {},
     "output_type": "display_data"
    },
    {
     "data": {
      "text/plain": [
       "<matplotlib.figure.Figure at 0x1216c5550>"
      ]
     },
     "metadata": {},
     "output_type": "display_data"
    },
    {
     "data": {
      "text/plain": [
       "<matplotlib.figure.Figure at 0x1eea51250>"
      ]
     },
     "metadata": {},
     "output_type": "display_data"
    },
    {
     "data": {
      "text/plain": [
       "<matplotlib.figure.Figure at 0x1fd95dad0>"
      ]
     },
     "metadata": {},
     "output_type": "display_data"
    },
    {
     "data": {
      "text/plain": [
       "<matplotlib.figure.Figure at 0x122583f90>"
      ]
     },
     "metadata": {},
     "output_type": "display_data"
    },
    {
     "data": {
      "text/plain": [
       "<matplotlib.figure.Figure at 0x1338e91d0>"
      ]
     },
     "metadata": {},
     "output_type": "display_data"
    },
    {
     "data": {
      "text/plain": [
       "<matplotlib.figure.Figure at 0x1ff386c10>"
      ]
     },
     "metadata": {},
     "output_type": "display_data"
    },
    {
     "data": {
      "text/plain": [
       "<matplotlib.figure.Figure at 0x1ff184810>"
      ]
     },
     "metadata": {},
     "output_type": "display_data"
    },
    {
     "data": {
      "text/plain": [
       "<matplotlib.figure.Figure at 0x125231990>"
      ]
     },
     "metadata": {},
     "output_type": "display_data"
    },
    {
     "data": {
      "text/plain": [
       "<matplotlib.figure.Figure at 0x1252521d0>"
      ]
     },
     "metadata": {},
     "output_type": "display_data"
    },
    {
     "data": {
      "text/plain": [
       "<matplotlib.figure.Figure at 0x120e02f10>"
      ]
     },
     "metadata": {},
     "output_type": "display_data"
    },
    {
     "data": {
      "text/plain": [
       "<matplotlib.figure.Figure at 0x12270b650>"
      ]
     },
     "metadata": {},
     "output_type": "display_data"
    },
    {
     "data": {
      "text/plain": [
       "<matplotlib.figure.Figure at 0x1fd1514d0>"
      ]
     },
     "metadata": {},
     "output_type": "display_data"
    },
    {
     "data": {
      "text/plain": [
       "<matplotlib.figure.Figure at 0x12b9adc10>"
      ]
     },
     "metadata": {},
     "output_type": "display_data"
    },
    {
     "data": {
      "text/plain": [
       "<matplotlib.figure.Figure at 0x121587e50>"
      ]
     },
     "metadata": {},
     "output_type": "display_data"
    },
    {
     "data": {
      "text/plain": [
       "<matplotlib.figure.Figure at 0x1ff3869d0>"
      ]
     },
     "metadata": {},
     "output_type": "display_data"
    },
    {
     "data": {
      "text/plain": [
       "<matplotlib.figure.Figure at 0x12baf1210>"
      ]
     },
     "metadata": {},
     "output_type": "display_data"
    },
    {
     "data": {
      "text/plain": [
       "<matplotlib.figure.Figure at 0x1cd2d8410>"
      ]
     },
     "metadata": {},
     "output_type": "display_data"
    },
    {
     "data": {
      "text/plain": [
       "<matplotlib.figure.Figure at 0x1f37616d0>"
      ]
     },
     "metadata": {},
     "output_type": "display_data"
    },
    {
     "data": {
      "text/plain": [
       "<matplotlib.figure.Figure at 0x12b980b90>"
      ]
     },
     "metadata": {},
     "output_type": "display_data"
    },
    {
     "data": {
      "text/plain": [
       "<matplotlib.figure.Figure at 0x1ff390e50>"
      ]
     },
     "metadata": {},
     "output_type": "display_data"
    },
    {
     "data": {
      "text/plain": [
       "<matplotlib.figure.Figure at 0x1cf27a390>"
      ]
     },
     "metadata": {},
     "output_type": "display_data"
    },
    {
     "data": {
      "text/plain": [
       "<matplotlib.figure.Figure at 0x195de48d0>"
      ]
     },
     "metadata": {},
     "output_type": "display_data"
    },
    {
     "data": {
      "text/plain": [
       "<matplotlib.figure.Figure at 0x1eb637410>"
      ]
     },
     "metadata": {},
     "output_type": "display_data"
    },
    {
     "data": {
      "text/plain": [
       "<matplotlib.figure.Figure at 0x125231e50>"
      ]
     },
     "metadata": {},
     "output_type": "display_data"
    },
    {
     "data": {
      "text/plain": [
       "<matplotlib.figure.Figure at 0x1e9cc0f50>"
      ]
     },
     "metadata": {},
     "output_type": "display_data"
    },
    {
     "data": {
      "text/plain": [
       "<matplotlib.figure.Figure at 0x1cd30f590>"
      ]
     },
     "metadata": {},
     "output_type": "display_data"
    },
    {
     "data": {
      "text/plain": [
       "<matplotlib.figure.Figure at 0x1fc317210>"
      ]
     },
     "metadata": {},
     "output_type": "display_data"
    },
    {
     "data": {
      "text/plain": [
       "<matplotlib.figure.Figure at 0x12555f690>"
      ]
     },
     "metadata": {},
     "output_type": "display_data"
    },
    {
     "data": {
      "text/plain": [
       "<matplotlib.figure.Figure at 0x1211ca4d0>"
      ]
     },
     "metadata": {},
     "output_type": "display_data"
    },
    {
     "data": {
      "text/plain": [
       "<matplotlib.figure.Figure at 0x125634450>"
      ]
     },
     "metadata": {},
     "output_type": "display_data"
    },
    {
     "data": {
      "text/plain": [
       "<matplotlib.figure.Figure at 0x1fa411fd0>"
      ]
     },
     "metadata": {},
     "output_type": "display_data"
    },
    {
     "data": {
      "text/plain": [
       "<matplotlib.figure.Figure at 0x12258a710>"
      ]
     },
     "metadata": {},
     "output_type": "display_data"
    },
    {
     "data": {
      "text/plain": [
       "<matplotlib.figure.Figure at 0x1ff398450>"
      ]
     },
     "metadata": {},
     "output_type": "display_data"
    },
    {
     "data": {
      "text/plain": [
       "<matplotlib.figure.Figure at 0x1211e3650>"
      ]
     },
     "metadata": {},
     "output_type": "display_data"
    },
    {
     "data": {
      "text/plain": [
       "<matplotlib.figure.Figure at 0x1e9cc1b90>"
      ]
     },
     "metadata": {},
     "output_type": "display_data"
    },
    {
     "data": {
      "text/plain": [
       "<matplotlib.figure.Figure at 0x1fb428890>"
      ]
     },
     "metadata": {},
     "output_type": "display_data"
    },
    {
     "data": {
      "text/plain": [
       "<matplotlib.figure.Figure at 0x1211e3d90>"
      ]
     },
     "metadata": {},
     "output_type": "display_data"
    },
    {
     "data": {
      "text/plain": [
       "<matplotlib.figure.Figure at 0x12bacc9d0>"
      ]
     },
     "metadata": {},
     "output_type": "display_data"
    },
    {
     "data": {
      "text/plain": [
       "<matplotlib.figure.Figure at 0x122595a90>"
      ]
     },
     "metadata": {},
     "output_type": "display_data"
    },
    {
     "data": {
      "text/plain": [
       "<matplotlib.figure.Figure at 0x1ff184d90>"
      ]
     },
     "metadata": {},
     "output_type": "display_data"
    },
    {
     "data": {
      "text/plain": [
       "<matplotlib.figure.Figure at 0x1f3761890>"
      ]
     },
     "metadata": {},
     "output_type": "display_data"
    },
    {
     "data": {
      "text/plain": [
       "<matplotlib.figure.Figure at 0x12bacc710>"
      ]
     },
     "metadata": {},
     "output_type": "display_data"
    }
   ],
   "source": [
    "clr=['red','blue','green','black']\n",
    "obj_fun_ts_plot = ['nse','kge','sig1','obs']\n",
    "linestyle = ['-','-','-','--']\n",
    "\n",
    "for idx, hid in enumerate(df_hcdn['id']):\n",
    "    \n",
    "    fig = plt.figure(figsize=(7.5, 5.5))\n",
    "    fig.subplots_adjust(left=0.095,right=0.975,bottom=0.095,top=0.935,wspace=0.25,hspace=0.45)\n",
    "\n",
    "    ax51 = [plt.subplot2grid((2, 2), (0, 0)),\n",
    "            plt.subplot2grid((2, 2), (0, 1))]\n",
    "    ax52 = [plt.subplot2grid((2, 2), (1, 0)),\n",
    "           plt.subplot2grid((2, 2), (1, 1))]\n",
    "\n",
    "    ax1.tick_params(labelsize=7)\n",
    "    ax2.tick_params(labelsize=7)\n",
    "    \n",
    "    cms2mmd = 60.0*60.0*24.0*1000.0/df_hcdn.loc[df_hcdn['id']==hid]['area'][idx]\n",
    "    for jdx, model in enumerate(model_list):\n",
    "        if model == 'vic':\n",
    "            sr_sim = ds_vic_flow_all.sel(hcdn=hid).to_dataframe()[obj_fun_ts_plot] \n",
    "        elif model =='mhm':\n",
    "            sr_sim = ds_mhm_flow_all.sel(hcdn=hid).to_dataframe()[obj_fun_ts_plot]\n",
    "            sr_sim=sr_sim*cms2mmd\n",
    "        sr_sim.where(sr_sim>0.0, 1.0e-7, inplace=True)\n",
    "        sr_sim_climatology_mean = sr_sim.groupby(sr_sim.index.dayofyear).mean()  \n",
    "        sr_sim_ann=sr_sim.resample('A-SEP').max()   \n",
    "        \n",
    "        ax51[jdx].axvline(x=sr_sim_ann.index[9],color=[0.5,0.5,0.5],linewidth=1.25)\n",
    "        sr_sim_ann.plot(ax=ax51[jdx],\n",
    "                        color=clr,\n",
    "                        style=linestyle,\n",
    "                        linewidth=1.25,\n",
    "                        legend=False,\n",
    "                        title = '%s: Annual maximum'%model) \n",
    "        \n",
    "        sr_sim_climatology_mean.plot(ax=ax52[jdx],\n",
    "                                     color=clr,\n",
    "                                     style=linestyle,\n",
    "                                     linewidth=1.25,\n",
    "                                     title='Annual cycle')\n",
    "        \n",
    "        ax51[jdx].set_xlabel(\"\")\n",
    "        ax52[jdx].set_xlabel(\"\")\n",
    "        ax51[jdx].set_ylabel(\"mm/day\")\n",
    "        ax52[jdx].set_ylabel(\"mm/day\")\n",
    "        ax51[jdx].xaxis.set_tick_params(labelsize=9)\n",
    "        ax52[jdx].xaxis.set_tick_params(labelsize=9)\n",
    "        ax51[jdx].yaxis.set_tick_params(labelsize=9)\n",
    "        ax52[jdx].yaxis.set_tick_params(labelsize=9)\n",
    "        ax51[jdx].grid(color=[0.7,0.7,0.7], linestyle='-', linewidth=0.5)\n",
    "        ax52[jdx].grid(color=[0.7,0.7,0.7], linestyle='-', linewidth=0.5)\n",
    "        \n",
    "    plt.savefig('../../Paper5_ffa/supple_figure/per_basin/time_seris_%d.pdf'%hid,\n",
    "            format='pdf', \n",
    "            dpi=200, \n",
    "            bbox_extra_artists=(lgd,), \n",
    "            bbox_inches='tight')\n",
    "    plt.clf()"
   ]
  },
  {
   "cell_type": "markdown",
   "metadata": {
    "collapsed": true
   },
   "source": [
    "## Flow component analysis\n",
    "How objective functions affect model flow components - fast (direct flow) and slow (baseflow) runoff."
   ]
  },
  {
   "cell_type": "code",
   "execution_count": null,
   "metadata": {
    "collapsed": true
   },
   "outputs": [],
   "source": [
    "# Compute mean ratio of direct runoff to total runoff for each basin and each objective function\n",
    "ds_vic_ro_cal = ds_vic_ro_all.sel(time=slice('1999-10-01', '2008-09-30'))\n",
    "ds_mhm_ro_cal = ds_mhm_ro_all.sel(time=slice('1999-10-01', '2008-09-30'))\n",
    "ds_vic_ro_annual_cal = ds_vic_ro_cal.resample('A', dim='time', how='sum')\n",
    "ds_mhm_ro_annual_cal = ds_mhm_ro_cal.resample('A', dim='time', how='sum')\n",
    "    \n",
    "#Initialize dictionary\n",
    "ratio_cal = {}\n",
    "\n",
    "for model in ['vic','mhm']:\n",
    "    ratio_array = np.zeros((nbasin, ndata))\n",
    "\n",
    "    for r, hid in enumerate(df_hcdn['id']):\n",
    "        for c, obj in enumerate(obj_fun_list):\n",
    "            direflow_name = '%s_dir_flow'%obj\n",
    "            baseflow_name = '%s_baseflow'%obj\n",
    "            if model == 'vic':\n",
    "                sr_dire_ro = ds_vic_ro_annual_cal[direflow_name].sel(hcdn=hid).to_pandas()\n",
    "                sr_base_ro = ds_vic_ro_annual_cal[baseflow_name].sel(hcdn=hid).to_pandas() \n",
    "            elif model =='mhm':\n",
    "                sr_dire_ro = ds_mhm_ro_annual_cal[direflow_name].sel(hcdn=hid).to_pandas()\n",
    "                sr_base_ro = ds_mhm_ro_annual_cal[baseflow_name].sel(hcdn=hid).to_pandas()\n",
    "            var_temp = sr_dire_ro/(sr_dire_ro+sr_base_ro)\n",
    "            ratio_array[r,c] = var_temp.mean(skipna=True)\n",
    "        \n",
    "    ratio_cal[model] = ratio_array"
   ]
  },
  {
   "cell_type": "code",
   "execution_count": null,
   "metadata": {
    "collapsed": true
   },
   "outputs": [],
   "source": [
    "# Compute mean ratio of direct runoff to total runoff for each basin and each objective function\n",
    "ds_vic_ro_val = ds_vic_ro_all.sel(time=slice('1989-10-01', '1999-09-30'))\n",
    "ds_mhm_ro_val = ds_mhm_ro_all.sel(time=slice('1989-10-01', '1999-09-30'))\n",
    "ds_vic_ro_annual_val = ds_vic_ro_val.resample('A', dim='time', how='sum')\n",
    "ds_mhm_ro_annual_val = ds_mhm_ro_val.resample('A', dim='time', how='sum')\n",
    "    \n",
    "#Initialize dictionary\n",
    "ratio_val = {}\n",
    "\n",
    "for model in ['vic','mhm']:\n",
    "    ratio_array = np.zeros((nbasin, ndata))\n",
    "\n",
    "    for r, hid in enumerate(df_hcdn['id']):\n",
    "        for c, obj in enumerate(obj_fun_list):\n",
    "            direflow_name = '%s_dir_flow'%obj\n",
    "            baseflow_name = '%s_baseflow'%obj\n",
    "            if model == 'vic':\n",
    "                sr_dire_ro = ds_vic_ro_annual_val[direflow_name].sel(hcdn=hid).to_pandas()\n",
    "                sr_base_ro = ds_vic_ro_annual_val[baseflow_name].sel(hcdn=hid).to_pandas() \n",
    "            elif model =='mhm':\n",
    "                sr_dire_ro = ds_mhm_ro_annual_val[direflow_name].sel(hcdn=hid).to_pandas()\n",
    "                sr_base_ro = ds_mhm_ro_annual_val[baseflow_name].sel(hcdn=hid).to_pandas()\n",
    "            var_temp = sr_dire_ro/(sr_dire_ro+sr_base_ro)\n",
    "            ratio_array[r,c] = var_temp.mean(skipna=True)\n",
    "        \n",
    "    ratio_val[model] = ratio_array"
   ]
  },
  {
   "cell_type": "code",
   "execution_count": null,
   "metadata": {
    "collapsed": true
   },
   "outputs": [],
   "source": [
    "# Construct boxplots for metrics group-by periods\n",
    "df_ratio_vic = pd.DataFrame(ratio_val['vic'], index=df_hcdn['id'], columns=obj_fun_list)\n",
    "df_ratio_mhm = pd.DataFrame(ratio_val['mhm'], index=df_hcdn['id'], columns=obj_fun_list)\n",
    "df_ratio_vic['Model'] = ['vic' for _ in df_hcdn['id']]\n",
    "df_ratio_mhm['Model'] = ['mhm' for _ in df_hcdn['id']]\n",
    "df_ratio = pd.concat([df_ratio_vic, df_ratio_mhm], axis=0)\n",
    "\n",
    "dd=pd.melt(df_ratio, id_vars=['Model'], value_vars=obj_fun_list, var_name='OF')\n",
    "\n",
    "plt.figure(figsize=(6.5,5))\n",
    "ax51 = sns.boxplot(x='Model', y='value', data=dd, hue='OF', linewidth=1.0)\n",
    "handles, labels = ax51.get_legend_handles_labels()\n",
    "lgd = plt.legend(bbox_to_anchor=(1.01, 1), loc=2, borderaxespad=0.)\n",
    "ax51.set_ylim([0.0,1.1])\n",
    "ax51.set_title('ratio of direct flow to total flow - validation period', fontsize=14, fontweight='bold')\n",
    "plt.savefig('../../Paper5_ffa/supple_figure/flow_ratio.boxplot.pdf',\n",
    "            format='pdf', \n",
    "            dpi=300, \n",
    "            bbox_extra_artists=(lgd,), \n",
    "            bbox_inches='tight')"
   ]
  }
 ],
 "metadata": {
  "kernelspec": {
   "display_name": "Python 2",
   "language": "python",
   "name": "python2"
  },
  "language_info": {
   "codemirror_mode": {
    "name": "ipython",
    "version": 2
   },
   "file_extension": ".py",
   "mimetype": "text/x-python",
   "name": "python",
   "nbconvert_exporter": "python",
   "pygments_lexer": "ipython2",
   "version": "2.7.11"
  }
 },
 "nbformat": 4,
 "nbformat_minor": 2
}
